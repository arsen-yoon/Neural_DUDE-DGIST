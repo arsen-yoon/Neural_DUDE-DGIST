{
 "cells": [
  {
   "cell_type": "code",
   "execution_count": 1,
   "metadata": {
    "collapsed": false
   },
   "outputs": [
    {
     "name": "stdout",
     "output_type": "stream",
     "text": [
      "Couldn't import dot_parser, loading of dot files will not be possible.\n"
     ]
    },
    {
     "name": "stderr",
     "output_type": "stream",
     "text": [
      "Using Theano backend.\n"
     ]
    }
   ],
   "source": [
    "import os\n",
    "os.environ[\"THEANO_FLAGS\"]=\"mode=FAST_RUN, device=cpu,floatX=float32\"\n",
    "import theano\n",
    "import keras\n",
    "import time\n",
    "\n",
    "import numpy as np\n",
    "import Binary_DUDE as DUDE\n",
    "import Binary_N_DUDE as N_DUDE\n",
    "\n",
    "from numpy import *\n",
    "from keras.preprocessing import sequence\n",
    "from keras.models import Sequential\n",
    "from keras.layers.core import Dense, Dropout, Activation, Flatten\n",
    "from keras.optimizers import SGD, RMSprop, Adagrad, Adam, Adadelta\n",
    "from keras.utils import np_utils"
   ]
  },
  {
   "cell_type": "code",
   "execution_count": 21,
   "metadata": {
    "collapsed": false
   },
   "outputs": [],
   "source": [
    "data=np.load('./Neural_dude_Data_lena512.npz')\n",
    "z_two=data['z_two']\n",
    "z=data['z']\n",
    "imarray=data['imarray']\n",
    "n=imarray.shape[0]*imarray.shape[1]\n",
    "offset=data['offset']\n",
    "L=data['L']\n",
    "L_new=data['L_new']"
   ]
  },
  {
   "cell_type": "code",
   "execution_count": 8,
   "metadata": {
    "collapsed": false
   },
   "outputs": [],
   "source": [
    "### Make data which this experiment needs ###\n",
    "n=imarray.shape[0]*imarray.shape[1]\n",
    "alpha_size=2\n",
    "mapping_size=3\n",
    "nb_classes=2\n",
    "\n",
    "Z=[]\n",
    "P=np.zeros((imarray.shape[0],imarray.shape[1],nb_classes),dtype=np.int)\n",
    "Z=np_utils.to_categorical(z[9],nb_classes) ## [0]->[1 0], [1]->[0 1]\n",
    "P=np.reshape(Z,(imarray.shape[0], imarray.shape[1], nb_classes))"
   ]
  },
  {
   "cell_type": "code",
   "execution_count": 76,
   "metadata": {
    "collapsed": true
   },
   "outputs": [],
   "source": [
    "######## 1-D DUDE ########\n",
    "def One_DUDE(z,k,delta):\n",
    "    n=len(z)\n",
    "    x_hat=np.zeros(n,dtype=np.int)\n",
    "    s_hat=x_hat.copy()\n",
    "    th_0=2*delta*(1-delta)\n",
    "    th_1=delta**2+(1-delta)**2\n",
    "    m={}\n",
    "    for i in range(k,n-k):\n",
    "        context=z[i-k:i].tolist()+z[i+1:i+k+1].tolist()\n",
    "        context_str = ''.join(str(e) for e in context)\n",
    "        if not m.has_key(context_str):\n",
    "            m[context_str]=np.zeros(2,dtype=np.int)\n",
    "            m[context_str][z[i]]=1\n",
    "        else:\n",
    "            m[context_str][z[i]]+=1\n",
    "        ratio = float(m[context_str][1]) / float(np.sum(m[context_str]))\n",
    "        if ratio < th_0:\n",
    "            s_hat[i]=1\n",
    "        elif ratio >= th_1:\n",
    "            s_hat[i]=2\n",
    "        else:\n",
    "            s_hat[i]=0\n",
    "    return s_hat"
   ]
  },
  {
   "cell_type": "code",
   "execution_count": 135,
   "metadata": {
    "collapsed": false
   },
   "outputs": [
    {
     "name": "stdout",
     "output_type": "stream",
     "text": [
      "[[1 1 1 ..., 1 1 1]\n",
      " [1 1 1 ..., 1 1 1]\n",
      " [1 1 1 ..., 1 1 1]\n",
      " ..., \n",
      " [0 0 0 ..., 0 1 0]\n",
      " [0 0 0 ..., 1 0 1]\n",
      " [0 0 0 ..., 0 1 1]]\n"
     ]
    }
   ],
   "source": [
    "z_new=np.reshape(z[9],(imarray.shape[0],imarray.shape[1]))\n",
    "print z_new"
   ]
  },
  {
   "cell_type": "code",
   "execution_count": 136,
   "metadata": {
    "collapsed": true
   },
   "outputs": [],
   "source": [
    "test_s_hat_DUDE=One_DUDE(z[9],1,0.01)\n",
    "test_s_hat_DUDE=np.reshape(test_s_hat_DUDE,(imarray.shape[0], imarray.shape[1]))\n",
    "test_s_hat_DUDE4=One_DUDE(z[9],4,0.01)\n",
    "test_s_hat_DUDE4=np.reshape(test_s_hat_DUDE4,(imarray.shape[0], imarray.shape[1]))\n",
    "test_s_hat_DUDE11=One_DUDE(z[9],11,0.01)\n",
    "test_s_hat_DUDE11=np.reshape(test_s_hat_DUDE11,(imarray.shape[0], imarray.shape[1]))\n"
   ]
  },
  {
   "cell_type": "code",
   "execution_count": 137,
   "metadata": {
    "collapsed": false
   },
   "outputs": [
    {
     "name": "stdout",
     "output_type": "stream",
     "text": [
      "[[0 2 2 ..., 0 0 0]\n",
      " [0 0 0 ..., 0 0 0]\n",
      " [0 0 0 ..., 0 0 0]\n",
      " ..., \n",
      " [0 0 0 ..., 0 0 0]\n",
      " [0 0 0 ..., 0 0 0]\n",
      " [0 0 0 ..., 0 0 0]] (512, 512)\n",
      "[[0 0 0 ..., 0 0 0]\n",
      " [0 0 0 ..., 0 2 0]\n",
      " [0 0 0 ..., 0 2 0]\n",
      " ..., \n",
      " [0 0 0 ..., 0 0 0]\n",
      " [0 0 0 ..., 0 0 0]\n",
      " [0 0 0 ..., 0 0 0]] (512, 512)\n",
      "[[0 0 0 ..., 2 2 2]\n",
      " [2 2 2 ..., 2 2 2]\n",
      " [2 2 0 ..., 2 2 2]\n",
      " ..., \n",
      " [1 0 1 ..., 1 0 1]\n",
      " [1 1 0 ..., 2 1 2]\n",
      " [1 0 1 ..., 0 0 0]] (512, 512)\n"
     ]
    }
   ],
   "source": [
    "print test_s_hat_DUDE, test_s_hat_DUDE.shape\n",
    "print test_s_hat_DUDE4, test_s_hat_DUDE4.shape\n",
    "print test_s_hat_DUDE11, test_s_hat_DUDE11.shape"
   ]
  },
  {
   "cell_type": "code",
   "execution_count": 144,
   "metadata": {
    "collapsed": true
   },
   "outputs": [],
   "source": [
    "######## 2-D DUDE ########\n",
    "def Two_DUDE(z_two, k, delta, n, offset):\n",
    "    width=int(math.sqrt(n))\n",
    "    th_0=2*delta*(1-delta)\n",
    "    th_1=delta**2+(1-delta)**2\n",
    "    s_hat=zeros((width,width),dtype=np.int)\n",
    "    \n",
    "    if k==1:\n",
    "        C=zeros((n-2*width,1),dtype=np.int)\n",
    "        for i in range(0,width):\n",
    "            for j in range(1,width-1):\n",
    "                context=[]\n",
    "                m={}\n",
    "                for l in range(1,k+1):\n",
    "                    [a_i, a_j]=[i,j]+offset[2*l-2] #clear\n",
    "                    [b_i, b_j]=[i,j]+offset[2*l-1] #clear\n",
    "                    context=context+[z_two[a_i,a_j],z_two[b_i,b_j]]\n",
    "                context_str = ''.join(str(e) for e in context)\n",
    "                if not m.has_key(context_str):\n",
    "                    m[context_str]=np.zeros(2,dtype=np.int)\n",
    "                    m[context_str][z_two[i,j]]=1\n",
    "                else:\n",
    "                    m[context_str][z_two[i,j]]+=1\n",
    "                ratio = float(m[context_str][1]) / float(np.sum(m[context_str]))\n",
    "                if ratio < th_0:\n",
    "                    s_hat[i,j]=1\n",
    "                elif ratio >= th_1:\n",
    "                    s_hat[i,j]=2\n",
    "                else:\n",
    "                    s_hat[i,j]=0\n",
    "                C[i*(width-2)+j-1]=context_str\n",
    "        #s_hat=np.reshape(s_hat,(n,))\n",
    "        return s_hat, C\n",
    "    \n",
    "    \n",
    "    elif 2<=k<=4:\n",
    "        C=zeros((n-2*(width)-2*(width-2),1),dtype=np.int)\n",
    "        for i in range(1,width-1):\n",
    "            for j in range(1,width-1):\n",
    "                context=[]\n",
    "                m={}\n",
    "                for l in range(1,k+1):\n",
    "                    [a_i, a_j]=[i,j]+offset[2*l-2]\n",
    "                    [b_i, b_j]=[i,j]+offset[2*l-1]\n",
    "                    context=context+[z_two[a_i,a_j],z_two[b_i,b_j]]\n",
    "                context_str = ''.join(str(e) for e in context)\n",
    "                if not m.has_key(context_str):\n",
    "                    m[context_str]=np.zeros(2,dtype=np.int)\n",
    "                    m[context_str][z_two[i,j]]=1\n",
    "                else:\n",
    "                    m[context_str][z_two[i,j]]+=1\n",
    "                ratio = float(m[context_str][1]) / float(np.sum(m[context_str]))\n",
    "                if ratio < th_0: # 0.18\n",
    "                    s_hat[i,j]=1\n",
    "                elif ratio >= th_1: # 0.82\n",
    "                    s_hat[i,j]=2\n",
    "                else:\n",
    "                    s_hat[i,j]=0 \n",
    "                C[(i-1)*(width-2)+j-1]=context_str\n",
    "        #s_hat=np.reshape(s_hat,(n,))        \n",
    "        return s_hat, C\n",
    "    \n",
    "    elif 6<=k<=12:\n",
    "        C=zeros((n-2*(width)-2*(width-2)-2*(width-2)-2*(width-4),1),dtype=np.int)\n",
    "        for i in range(2,width-2):\n",
    "            for j in range(2,width-2):\n",
    "                context=[]\n",
    "                m={}\n",
    "                for l in range(1,k+1):\n",
    "                    [a_i, a_j]=[i,j]+offset[2*l-2]\n",
    "                    [b_i, b_j]=[i,j]+offset[2*l-1]\n",
    "                    context=context+[z_two[a_i,a_j],z_two[b_i,b_j]]\n",
    "                context_str = ''.join(str(e) for e in context)\n",
    "                if not m.has_key(context_str):\n",
    "                    m[context_str]=np.zeros(2,dtype=np.int)\n",
    "                    m[context_str][z_two[i,j]]=1\n",
    "                else:\n",
    "                    m[context_str][z_two[i,j]]+=1\n",
    "                    \n",
    "                ratio = float(m[context_str][1]) / float(np.sum(m[context_str]))\n",
    "                if ratio < th_0:\n",
    "                    s_hat[i,j]=1\n",
    "                elif ratio >= th_1:\n",
    "                    s_hat[i,j]=2\n",
    "                else:\n",
    "                    s_hat[i,j]=0 \n",
    "                C[(i-2)*(width-4)+j-2]=context_str\n",
    "        #s_hat=np.reshape(s_hat,(n,))        \n",
    "        return s_hat, C"
   ]
  },
  {
   "cell_type": "code",
   "execution_count": 145,
   "metadata": {
    "collapsed": false
   },
   "outputs": [],
   "source": [
    "m={}\n",
    "a=[]\n",
    "a=a+[z_two[9][offset[0,0], offset[0,1]], z_two[9][offset[1,0],offset[1,1]]]\n",
    "a_str = ''.join(str(e) for e in a)\n",
    "\n",
    "b=[]\n",
    "b=b+[0,0,0,0]\n",
    "b_str=''.join(str(e) for e in b)"
   ]
  },
  {
   "cell_type": "code",
   "execution_count": 146,
   "metadata": {
    "collapsed": false
   },
   "outputs": [
    {
     "name": "stdout",
     "output_type": "stream",
     "text": [
      "False\n"
     ]
    },
    {
     "ename": "KeyError",
     "evalue": "'11'",
     "output_type": "error",
     "traceback": [
      "\u001b[0;31m---------------------------------------------------------------------------\u001b[0m",
      "\u001b[0;31mKeyError\u001b[0m                                  Traceback (most recent call last)",
      "\u001b[0;32m<ipython-input-146-b8c8d479e3fe>\u001b[0m in \u001b[0;36m<module>\u001b[0;34m()\u001b[0m\n\u001b[1;32m      1\u001b[0m \u001b[0;32mprint\u001b[0m \u001b[0mm\u001b[0m\u001b[0;34m.\u001b[0m\u001b[0mhas_key\u001b[0m\u001b[0;34m(\u001b[0m\u001b[0ma_str\u001b[0m\u001b[0;34m)\u001b[0m\u001b[0;34m\u001b[0m\u001b[0m\n\u001b[0;32m----> 2\u001b[0;31m \u001b[0;32mprint\u001b[0m \u001b[0mm\u001b[0m\u001b[0;34m[\u001b[0m\u001b[0ma_str\u001b[0m\u001b[0;34m]\u001b[0m\u001b[0;34m[\u001b[0m\u001b[0mz_two\u001b[0m\u001b[0;34m[\u001b[0m\u001b[0;36m9\u001b[0m\u001b[0;34m]\u001b[0m\u001b[0;34m[\u001b[0m\u001b[0moffset\u001b[0m\u001b[0;34m[\u001b[0m\u001b[0;36m0\u001b[0m\u001b[0;34m,\u001b[0m\u001b[0;36m0\u001b[0m\u001b[0;34m]\u001b[0m\u001b[0;34m,\u001b[0m \u001b[0moffset\u001b[0m\u001b[0;34m[\u001b[0m\u001b[0;36m0\u001b[0m\u001b[0;34m,\u001b[0m\u001b[0;36m1\u001b[0m\u001b[0;34m]\u001b[0m\u001b[0;34m]\u001b[0m\u001b[0;34m]\u001b[0m\u001b[0;34m\u001b[0m\u001b[0m\n\u001b[0m",
      "\u001b[0;31mKeyError\u001b[0m: '11'"
     ]
    }
   ],
   "source": [
    "print m.has_key(a_str)\n",
    "print m[a_str][z_two[9][offset[0,0], offset[0,1]]]"
   ]
  },
  {
   "cell_type": "code",
   "execution_count": 147,
   "metadata": {
    "collapsed": false
   },
   "outputs": [
    {
     "name": "stdout",
     "output_type": "stream",
     "text": [
      "1 1\n",
      "[1, 1]\n",
      "[1, 1]\n",
      "11\n",
      "[0, 0, 0, 0]\n",
      "0000\n",
      "[1, 1]\n"
     ]
    }
   ],
   "source": [
    "print z_two[9][offset[0,0], offset[0,1]], z_two[9][offset[1,0],offset[1,1]]\n",
    "print [z_two[9][offset[0,0], offset[0,1]], z_two[9][offset[1,0],offset[1,1]]]\n",
    "print a\n",
    "print a_str\n",
    "print b\n",
    "print b_str\n",
    "\n",
    "print c"
   ]
  },
  {
   "cell_type": "code",
   "execution_count": 148,
   "metadata": {
    "collapsed": false
   },
   "outputs": [
    {
     "name": "stdout",
     "output_type": "stream",
     "text": [
      "[[1 1 1 ..., 1 1 1]\n",
      " [1 1 1 ..., 1 1 1]\n",
      " [1 1 1 ..., 1 1 1]\n",
      " ..., \n",
      " [0 0 0 ..., 0 1 0]\n",
      " [0 0 0 ..., 1 0 1]\n",
      " [0 0 0 ..., 0 1 1]]\n"
     ]
    }
   ],
   "source": [
    "print z_two[9]"
   ]
  },
  {
   "cell_type": "code",
   "execution_count": 150,
   "metadata": {
    "collapsed": false
   },
   "outputs": [],
   "source": [
    "test_s_hat1, C1=Two_DUDE(z_two[9],1,0.01,n,offset)\n",
    "test_s_hat4, C4=Two_DUDE(z_two[9],4,0.01,n,offset)\n",
    "#test_s_hat11, C11=Two_DUDE(z_two[9],11,0.01,n,offset)"
   ]
  },
  {
   "cell_type": "code",
   "execution_count": 151,
   "metadata": {
    "collapsed": false
   },
   "outputs": [
    {
     "name": "stdout",
     "output_type": "stream",
     "text": [
      "[[0 2 2 ..., 2 2 0]\n",
      " [0 2 2 ..., 2 2 0]\n",
      " [0 2 2 ..., 2 2 0]\n",
      " ..., \n",
      " [0 1 1 ..., 1 2 0]\n",
      " [0 1 1 ..., 2 1 0]\n",
      " [0 1 1 ..., 1 2 0]] (512, 512)\n",
      "[[0 0 0 ..., 0 0 0]\n",
      " [0 2 2 ..., 2 2 0]\n",
      " [0 2 2 ..., 2 2 0]\n",
      " ..., \n",
      " [0 1 1 ..., 1 2 0]\n",
      " [0 1 1 ..., 2 1 0]\n",
      " [0 0 0 ..., 0 0 0]] (512, 512)\n"
     ]
    }
   ],
   "source": [
    "print test_s_hat1, test_s_hat1.shape\n",
    "print test_s_hat4, test_s_hat4.shape\n",
    "# this implies that the denoising part is o.k."
   ]
  },
  {
   "cell_type": "code",
   "execution_count": 125,
   "metadata": {
    "collapsed": true
   },
   "outputs": [],
   "source": [
    "######## 2-D DUDE Denoising ########\n",
    "def denoise_with_s_Two_DUDE(z_two,s,k):\n",
    "    width=int(math.sqrt(z_two.shape[0]*z_two.shape[1]))\n",
    "    x_hat=z_two.copy()\n",
    "    s=s.reshape((z_two.shape[0], z_two.shape[1]))\n",
    "    if k==1:\n",
    "        for i in range(0,width):\n",
    "            for j in range(1,width-1):\n",
    "                if s[i,j]==0:\n",
    "                    x_hat[i,j]=z_two[i,j]\n",
    "                elif s[i,j]==1:\n",
    "                    x_hat[i,j]=0\n",
    "                else:\n",
    "                    x_hat[i,j]=1\n",
    "        #x_hat=x_hat.reshape(z_two.shape[0]*z_two.shape[1],)\n",
    "        return x_hat\n",
    "    elif 2<=k<=4:\n",
    "        for i in range(1,width-1):\n",
    "            for j in range(1,width-1):\n",
    "                if s[i,j]==0:\n",
    "                    x_hat[i,j]=z_two[i,j]\n",
    "                elif s[i,j]==1:\n",
    "                    x_hat[i,j]=0\n",
    "                else:\n",
    "                    x_hat[i,j]=1\n",
    "        x_hat=x_hat.reshape(z_two.shape[0]*z_two.shape[1],)\n",
    "        return x_hat\n",
    "    elif k==5:\n",
    "        for i in range(1,width-1):\n",
    "            for j in range(2,width-2):\n",
    "                if s[i,j]==0:\n",
    "                    x_hat[i,j]=z_two[i,j]\n",
    "                elif s[i,j]==1:\n",
    "                    x_hat[i,j]=0\n",
    "                else:\n",
    "                    x_hat[i,j]=1\n",
    "        x_hat=x_hat.reshape(z_two.shape[0]*z_two.shape[1],)\n",
    "        return x_hat\n",
    "    elif 6<=k<=12:\n",
    "        for i in range(2,width-2):\n",
    "            for j in range(2,width-2):\n",
    "                if s[i,j]==0:\n",
    "                    x_hat[i,j]=z_two[i,j]\n",
    "                elif s[i,j]==1:\n",
    "                    x_hat[i,j]=0\n",
    "                else:\n",
    "                    x_hat[i,j]=1\n",
    "        #x_hat=x_hat.reshape(z_two.shape[0]*z_two.shape[1],)\n",
    "        return x_hat"
   ]
  },
  {
   "cell_type": "code",
   "execution_count": 126,
   "metadata": {
    "collapsed": false
   },
   "outputs": [],
   "source": [
    "x_hat11=denoise_with_s_Two_DUDE(z_two[9],test_s_hat2,11)\n",
    "x_hat1=denoise_with_s_Two_DUDE(z_two[9],test_s_hat1,1)"
   ]
  },
  {
   "cell_type": "code",
   "execution_count": 129,
   "metadata": {
    "collapsed": false
   },
   "outputs": [
    {
     "name": "stdout",
     "output_type": "stream",
     "text": [
      "[[1 1 1 ..., 1 1 1]\n",
      " [1 1 1 ..., 1 1 1]\n",
      " [1 1 1 ..., 1 1 1]\n",
      " ..., \n",
      " [0 0 0 ..., 0 1 0]\n",
      " [0 0 0 ..., 1 0 1]\n",
      " [0 0 0 ..., 0 1 1]] (512, 512)\n",
      "[[1 1 1 ..., 1 1 1]\n",
      " [1 1 1 ..., 1 1 1]\n",
      " [1 1 1 ..., 1 1 1]\n",
      " ..., \n",
      " [0 0 0 ..., 0 1 0]\n",
      " [0 0 0 ..., 1 0 1]\n",
      " [0 0 0 ..., 0 1 1]] (512, 512)\n"
     ]
    }
   ],
   "source": [
    "print x_hat1, x_hat1.shape\n",
    "print x_hat11, x_hat11.shape"
   ]
  },
  {
   "cell_type": "code",
   "execution_count": 24,
   "metadata": {
    "collapsed": false
   },
   "outputs": [],
   "source": [
    "######## 2-D N-DUDE ########\n",
    "def make_data_for_Two_NN_DUDE(P,Z,k,L,nb_classes,n,offset):\n",
    "    width=int(math.sqrt(n))\n",
    "    if k==1:\n",
    "        # context generation part #\n",
    "        C=zeros((n-2*width, 2*k*nb_classes))\n",
    "        for i in range(0,width): # i-th row\n",
    "            for j in range(1,width-1): # j-th col\n",
    "                c_i=[]\n",
    "                for l in range(1,k+1):\n",
    "                    [a_i, a_j]=[i,j]+offset[2*l-2]\n",
    "                    [b_i, b_j]=[i,j]+offset[2*l-1]\n",
    "                    \n",
    "                    c_i=c_i+P[a_i,a_j,].tolist()+P[b_i,b_j,].tolist()\n",
    "                C[i*(width-2)+j-1,]=c_i # each row has width-2 cols\n",
    "        # pseudo label generation part #\n",
    "        col_cut = np.split(P, [1, width-1], axis=1)\n",
    "        listing = np.reshape(col_cut[1], (col_cut[1].shape[0]*col_cut[1].shape[1], col_cut[1].shape[2]))\n",
    "        Y=dot(listing,L)        \n",
    "        return C,Y\n",
    "    elif 2<=k<=4:\n",
    "        C=zeros((n-2*width-2*(width-2), 2*k*nb_classes))\n",
    "        for i in range(1,width-1): \n",
    "            for j in range(1,width-1):\n",
    "                c_i=[]\n",
    "                for l in range(1,k+1):\n",
    "                    [a_i, a_j]=[i,j]+offset[2*l-2]\n",
    "                    [b_i, b_j]=[i,j]+offset[2*l-1]\n",
    "                    \n",
    "                    c_i=c_i+P[a_i,a_j,].tolist()+P[b_i,b_j,].tolist()\n",
    "                C[(i-1)*(width-2)+j-1,]=c_i\n",
    "        \n",
    "        col_cut = np.split(P, [1, width-1], axis=1)\n",
    "        row_cut = np.split(col_cut[1], [1, width-1])\n",
    "        listing = np.reshape(row_cut[1], (row_cut[1].shape[0]*row_cut[1].shape[1], row_cut[1].shape[2]))\n",
    "        Y=dot(listing,L)\n",
    "        return C,Y"
   ]
  },
  {
   "cell_type": "code",
   "execution_count": 31,
   "metadata": {
    "collapsed": false
   },
   "outputs": [
    {
     "name": "stdout",
     "output_type": "stream",
     "text": [
      "\n"
     ]
    }
   ],
   "source": [
    "C_NN,Y_NN=make_data_for_Two_NN_DUDE(P,Z,1,L_new[18:20,],nb_classes,n,offset)"
   ]
  },
  {
   "cell_type": "code",
   "execution_count": 33,
   "metadata": {
    "collapsed": false
   },
   "outputs": [
    {
     "name": "stdout",
     "output_type": "stream",
     "text": [
      "[[ 0.  1.  0.  1.]\n",
      " [ 0.  1.  0.  1.]\n",
      " [ 0.  1.  0.  1.]\n",
      " ..., \n",
      " [ 1.  0.  1.  0.]\n",
      " [ 0.  1.  0.  1.]\n",
      " [ 0.  1.  1.  0.]] (261120, 4)\n",
      "[[ 1.025  0.     1.25 ]\n",
      " [ 1.025  0.     1.25 ]\n",
      " [ 1.025  0.     1.25 ]\n",
      " ..., \n",
      " [ 1.025  0.     1.25 ]\n",
      " [ 1.025  1.25   0.   ]\n",
      " [ 1.025  0.     1.25 ]] (261120, 3)\n"
     ]
    }
   ],
   "source": [
    "print C_NN, C_NN.shape\n",
    "print Y_NN, Y_NN.shape"
   ]
  },
  {
   "cell_type": "code",
   "execution_count": null,
   "metadata": {
    "collapsed": true
   },
   "outputs": [],
   "source": []
  }
 ],
 "metadata": {
  "kernelspec": {
   "display_name": "Python 2",
   "language": "python",
   "name": "python2"
  },
  "language_info": {
   "codemirror_mode": {
    "name": "ipython",
    "version": 2
   },
   "file_extension": ".py",
   "mimetype": "text/x-python",
   "name": "python",
   "nbconvert_exporter": "python",
   "pygments_lexer": "ipython2",
   "version": "2.7.6"
  }
 },
 "nbformat": 4,
 "nbformat_minor": 0
}
