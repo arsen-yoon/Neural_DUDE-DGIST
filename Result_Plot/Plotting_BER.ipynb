{
 "cells": [
  {
   "cell_type": "code",
   "execution_count": 2,
   "metadata": {
    "collapsed": false
   },
   "outputs": [],
   "source": [
    "import numpy as np\n",
    "import find as fd\n",
    "import matplotlib.pyplot as plt\n",
    "%matplotlib inline \n",
    "\n",
    "from numpy import *"
   ]
  },
  {
   "cell_type": "code",
   "execution_count": 7,
   "metadata": {
    "collapsed": false
   },
   "outputs": [],
   "source": [
    "result3 = np.load('./How_large_K_Two_4.npz')\n",
    "Error_Two_NN_DUDE3=result3['Error_Two_NN_DUDE']\n",
    "Error_Two_NN_DUDE_PD3=result3['Error_Two_NN_DUDE_PD']\n",
    "Error_Two_NN_DUDE_LB3=result3['Error_Two_NN_DUDE_LB']\n",
    "Error_Two_NN_DUDE_PD_LB3=result3['Error_Two_NN_DUDE_PD_LB']\n",
    "Est_Loss_Two_NN_DUDE3=result3['Est_Loss_Two_NN_DUDE']\n",
    "Est_Loss_Two_NN_DUDE_PD3=result3['Est_Loss_Two_NN_DUDE_PD']\n",
    "X_hat_Two_NN_DUDE3 = result3['X_hat_Two_NN_DUDE']\n",
    "X_hat_Two_NN_DUDE_PD3 = result3['X_hat_Two_NN_DUDE_PD']"
   ]
  },
  {
   "cell_type": "code",
   "execution_count": 8,
   "metadata": {
    "collapsed": false,
    "scrolled": true
   },
   "outputs": [
    {
     "name": "stdout",
     "output_type": "stream",
     "text": [
      "[[ 0.01        0.          0.          0.          0.          0.          0.\n",
      "   0.          0.          0.          0.        ]\n",
      " [ 0.02        0.          0.          0.          0.          0.          0.\n",
      "   0.          0.          0.          0.        ]\n",
      " [ 0.03        0.          0.          0.          0.          0.          0.\n",
      "   0.          0.          0.          0.        ]\n",
      " [ 0.04        0.          0.          0.          0.          0.          0.\n",
      "   0.          0.          0.          0.        ]\n",
      " [ 0.05        0.          0.          0.          0.          0.          0.\n",
      "   0.          0.          0.          0.        ]\n",
      " [ 0.06        0.          0.          0.          0.          0.          0.\n",
      "   0.          0.          0.          0.        ]\n",
      " [ 0.07        0.          0.          0.          0.          0.          0.\n",
      "   0.          0.          0.          0.        ]\n",
      " [ 0.08        0.          0.          0.          0.          0.          0.\n",
      "   0.          0.          0.          0.        ]\n",
      " [ 0.09        0.          0.          0.          0.          0.          0.\n",
      "   0.          0.          0.          0.        ]\n",
      " [ 0.1         0.02789688  0.0282135   0.02947235  0.03077316  0.03197479\n",
      "   0.03223038  0.03455353  0.03505325  0.04793549  0.03879929]]\n",
      "[[ 0.01        0.          0.          0.          0.          0.          0.\n",
      "   0.          0.          0.          0.        ]\n",
      " [ 0.02        0.          0.          0.          0.          0.          0.\n",
      "   0.          0.          0.          0.        ]\n",
      " [ 0.03        0.          0.          0.          0.          0.          0.\n",
      "   0.          0.          0.          0.        ]\n",
      " [ 0.04        0.          0.          0.          0.          0.          0.\n",
      "   0.          0.          0.          0.        ]\n",
      " [ 0.05        0.          0.          0.          0.          0.          0.\n",
      "   0.          0.          0.          0.        ]\n",
      " [ 0.06        0.          0.          0.          0.          0.          0.\n",
      "   0.          0.          0.          0.        ]\n",
      " [ 0.07        0.          0.          0.          0.          0.          0.\n",
      "   0.          0.          0.          0.        ]\n",
      " [ 0.08        0.          0.          0.          0.          0.          0.\n",
      "   0.          0.          0.          0.        ]\n",
      " [ 0.09        0.          0.          0.          0.          0.          0.\n",
      "   0.          0.          0.          0.        ]\n",
      " [ 0.1         0.02563992  0.02544212  0.02669182  0.0272975   0.02844524\n",
      "   0.02849817  0.03207169  0.03120146  0.03858833  0.03371029]]\n",
      "[[ 0.01        0.          0.          0.          0.          0.          0.\n",
      "   0.          0.          0.          0.        ]\n",
      " [ 0.02        0.          0.          0.          0.          0.          0.\n",
      "   0.          0.          0.          0.        ]\n",
      " [ 0.03        0.          0.          0.          0.          0.          0.\n",
      "   0.          0.          0.          0.        ]\n",
      " [ 0.04        0.          0.          0.          0.          0.          0.\n",
      "   0.          0.          0.          0.        ]\n",
      " [ 0.05        0.          0.          0.          0.          0.          0.\n",
      "   0.          0.          0.          0.        ]\n",
      " [ 0.06        0.          0.          0.          0.          0.          0.\n",
      "   0.          0.          0.          0.        ]\n",
      " [ 0.07        0.          0.          0.          0.          0.          0.\n",
      "   0.          0.          0.          0.        ]\n",
      " [ 0.08        0.          0.          0.          0.          0.          0.\n",
      "   0.          0.          0.          0.        ]\n",
      " [ 0.09        0.          0.          0.          0.          0.          0.\n",
      "   0.          0.          0.          0.        ]\n",
      " [ 0.1         0.02452087  0.02203751  0.02305984  0.02241898  0.02380753\n",
      "   0.02207565  0.02207947  0.02334976  0.02412415  0.02268219]]\n",
      "[[ 0.01        0.          0.          0.          0.          0.          0.\n",
      "   0.          0.          0.          0.        ]\n",
      " [ 0.02        0.          0.          0.          0.          0.          0.\n",
      "   0.          0.          0.          0.        ]\n",
      " [ 0.03        0.          0.          0.          0.          0.          0.\n",
      "   0.          0.          0.          0.        ]\n",
      " [ 0.04        0.          0.          0.          0.          0.          0.\n",
      "   0.          0.          0.          0.        ]\n",
      " [ 0.05        0.          0.          0.          0.          0.          0.\n",
      "   0.          0.          0.          0.        ]\n",
      " [ 0.06        0.          0.          0.          0.          0.          0.\n",
      "   0.          0.          0.          0.        ]\n",
      " [ 0.07        0.          0.          0.          0.          0.          0.\n",
      "   0.          0.          0.          0.        ]\n",
      " [ 0.08        0.          0.          0.          0.          0.          0.\n",
      "   0.          0.          0.          0.        ]\n",
      " [ 0.09        0.          0.          0.          0.          0.          0.\n",
      "   0.          0.          0.          0.        ]\n",
      " [ 0.1         0.02119007  0.01984053  0.02005777  0.01905766  0.02130413\n",
      "   0.01918726  0.01867228  0.01962328  0.01956167  0.01859722]]\n"
     ]
    }
   ],
   "source": [
    "print Error_Two_NN_DUDE3\n",
    "print Est_Loss_Two_NN_DUDE3\n",
    "print Error_Two_NN_DUDE_PD3\n",
    "print Est_Loss_Two_NN_DUDE_PD3"
   ]
  },
  {
   "cell_type": "code",
   "execution_count": 15,
   "metadata": {
    "collapsed": false
   },
   "outputs": [],
   "source": [
    "result1 = np.load('./How_large_K_Two.npz')\n",
    "Error_Two_NN_DUDE1=result1['Error_Two_NN_DUDE']\n",
    "Error_Two_NN_DUDE_PD1=result1['Error_Two_NN_DUDE_PD']\n",
    "Error_Two_NN_DUDE_LB1=result1['Error_Two_NN_DUDE_LB']\n",
    "Error_Two_NN_DUDE_PD_LB1=result1['Error_Two_NN_DUDE_PD_LB']\n",
    "Est_Loss_Two_NN_DUDE1=result1['Est_Loss_Two_NN_DUDE']\n",
    "Est_Loss_Two_NN_DUDE_PD1=result1['Est_Loss_Two_NN_DUDE_PD']\n",
    "X_hat_Two_NN_DUDE1 = result1['X_hat_Two_NN_DUDE']\n",
    "X_hat_Two_NN_DUDE_PD1 = result1['X_hat_Two_NN_DUDE_PD']"
   ]
  },
  {
   "cell_type": "code",
   "execution_count": 10,
   "metadata": {
    "collapsed": true
   },
   "outputs": [],
   "source": [
    "delta = np.arange(0.01, 0.31, 0.01)\n",
    "k_max = 40"
   ]
  },
  {
   "cell_type": "code",
   "execution_count": null,
   "metadata": {
    "collapsed": false
   },
   "outputs": [],
   "source": [
    "plt.imshow(X_hat_Two_NN_DUDE1[1187].reshape(512,512), cmap='gray')\n",
    "plt.title('2-D, True $\\delta$=0.01 \\nAssumed $\\delta$=0.30, 2.724$\\delta$, k=28',fontweight='bold', fontstyle='italic', fontsize=12, horizontalalignment='center')\n",
    "plt.savefig('./TMP2.pdf',bbox_inches='tight')"
   ]
  },
  {
   "cell_type": "code",
   "execution_count": 75,
   "metadata": {
    "collapsed": false,
    "scrolled": false
   },
   "outputs": [
    {
     "data": {
      "image/png": "[encoded data removed]",
      "text/plain": [
       "<matplotlib.figure.Figure at 0x7f9857157e50>"
      ]
     },
     "metadata": {},
     "output_type": "display_data"
    }
   ],
   "source": [
    "k = arange(10,620,10)\n",
    "\n",
    "for i in range(9,10):\n",
    "    fig=plt.figure(i)\n",
    "    results=plt.subplot(111)\n",
    "    \n",
    "    #results.plot(k,Error_One_DUDE1[i][:41]/delta[i],'r-',linewidth=1.0)\n",
    "    #results.plot(k,abs(Error_Two_NN_DUDE1[i]-Est_Loss_Two_NN_DUDE1[i])/delta[9],'r-',linewidth=1.0)\n",
    "    results.plot(k,Error_Two_NN_DUDE_PD1[i]/delta[9],'b-',linewidth=1.0)\n",
    "    #results.plot(k,abs(Error_Two_NN_DUDE_PD1[i]-Est_Loss_Two_NN_DUDE_PD1[i])/delta[9],'r-',linewidth=1.0)\n",
    "    #results.plot(k,Error_Two_NN_DUDE_LB1[i]/delta[9],'b-',linewidth=1.0)\n",
    "    #results.plot(k,Error_Two_NN_DUDE_PD_LB1[i]/delta[9],'b-',linewidth=1.0)\n",
    "    #results.plot(k,Est_Loss_Two_NN_DUDE1[i]/delta[9],'g-',linewidth=1.0)\n",
    "    #results.plot(k,Est_Loss_Two_NN_DUDE_PD1[i]/delta[9],'g-',linewidth=1.0)\n",
    "    \n",
    "    plt.legend(['Difference between true loss & est. loss'],fontsize=10,bbox_to_anchor=(1.0, 1.0))\n",
    "    plt.ylim((0.1,0.4))\n",
    "    plt.title('2-D, $\\delta$=0.1', fontweight='bold', fontstyle='italic', fontsize=16, horizontalalignment='center')\n",
    "    plt.grid()\n",
    "    plt.xlabel('Window size k',fontsize=12)\n",
    "    plt.ylabel('(Bit Error Rate) / $\\delta$',fontsize=12)\n",
    "    \n",
    "    #minimum_idx_One_DUDE=fd.find_min_idx(Error_One_DUDE1[i][:41])\n",
    "    minimum_idx_One_NN_DUDE=fd.find_max_idx(abs(Error_Two_NN_DUDE1[i]-Est_Loss_Two_NN_DUDE1[i]))\n",
    "    #minimum_idx_One_NN_DUDE_PD=fd.find_min_idx(Error_Two_NN_DUDE_PD1[i])\n",
    "    #minimum_idx_One_NN_DUDE_PD=fd.find_max_idx(abs(Error_Two_NN_DUDE_PD1[i]-Est_Loss_Two_NN_DUDE_PD1[i]))\n",
    "    #minimum_idx_One_NN_DUDE_LB=fd.find_min_idx(Error_Two_NN_DUDE_LB1[i])\n",
    "    #minimum_idx_One_NN_DUDE_PD_LB=fd.find_min_idx(Error_Two_NN_DUDE_PD_LB1[i])\n",
    "    #minimum_idx_Est_Loss_One_NN_DUDE=fd.find_min_idx(Est_Loss_Two_NN_DUDE1[i])\n",
    "    #minimum_idx_Est_Loss_One_NN_DUDE_PD=fd.find_min_idx(Est_Loss_Two_NN_DUDE_PD1[i])\n",
    "    \n",
    "    #min_One_DUDE=(min(Error_One_DUDE1[i][:41]))/delta[i]\n",
    "    min_One_NN_DUDE=(max(abs(Error_Two_NN_DUDE1[i]-Est_Loss_Two_NN_DUDE1[i])))/delta[9]\n",
    "    #min_One_NN_DUDE_PD=(min(Error_Two_NN_DUDE_PD1[i]))/delta[9]\n",
    "    #min_One_NN_DUDE_PD=(max(abs(Error_Two_NN_DUDE_PD1[i]-Est_Loss_Two_NN_DUDE_PD1[i])))/delta[9]\n",
    "    #min_One_NN_DUDE_LB=(min(Error_Two_NN_DUDE_LB1[i]))/delta[9]\n",
    "    #min_One_NN_DUDE_PD_LB=(min(Error_Two_NN_DUDE_PD_LB1[i]))/delta[9]\n",
    "    #min_Est_Loss_One_NN_DUDE=(min(Est_Loss_Two_NN_DUDE1[i]))/delta[9]\n",
    "    #min_Est_Loss_One_NN_DUDE_PD=(min(Est_Loss_Two_NN_DUDE_PD1[i]))/delta[9]\n",
    "    \n",
    "    \n",
    "    #plt.annotate('%0.3f\\n(k=%d)' %(round(min_One_DUDE,3),minimum_idx_One_DUDE), xy=(minimum_idx_One_DUDE, round(min_One_DUDE,3)), \n",
    "    #             xytext=(minimum_idx_One_DUDE, round(min_One_DUDE,3)+0.1),\n",
    "    #             arrowprops=dict(arrowstyle=\"->\",color='r',linewidth=1.5),color='r',weight='bold')\n",
    "    \n",
    "    plt.annotate('%0.3f\\n(k=%d)' %(round(min_One_NN_DUDE,3),(minimum_idx_One_NN_DUDE+1)*10), xy=(minimum_idx_One_NN_DUDE*10, round(min_One_NN_DUDE,3)), \n",
    "                 xytext=(minimum_idx_One_NN_DUDE*10, round(min_One_NN_DUDE,3)+0.01),\n",
    "                 arrowprops=dict(arrowstyle=\"->\",color='r',linewidth=1.5),color='r',weight='bold')\n",
    "    \n",
    "    #plt.annotate('%0.3f\\n(k=%d)' %(round(min_One_NN_DUDE_PD,3),minimum_idx_One_NN_DUDE_PD*10), xy=(minimum_idx_One_NN_DUDE_PD*10, round(min_One_NN_DUDE_PD,3)), \n",
    "    #             xytext=(minimum_idx_One_NN_DUDE_PD*10, round(min_One_NN_DUDE_PD,3)+0.2),\n",
    "    #             arrowprops=dict(arrowstyle=\"->\",color='b',linewidth=1.5),color='b',weight='bold')\n",
    "    \n",
    "    #plt.annotate('%0.3f\\n(k=%d)' %(round(min_One_NN_DUDE_PD,3),minimum_idx_One_NN_DUDE_PD*10), xy=(minimum_idx_One_NN_DUDE_PD*10, round(min_One_NN_DUDE_PD,4)), \n",
    "    #             xytext=(minimum_idx_One_NN_DUDE_PD*10, round(min_One_NN_DUDE_PD,4)+0.01),\n",
    "    #             arrowprops=dict(arrowstyle=\"->\",color='r',linewidth=1.5),color='r',weight='bold')\n",
    "    \n",
    "    #plt.annotate('%0.3f\\n(k=%d)' %(round(min_One_NN_DUDE_LB,3),minimum_idx_One_NN_DUDE_LB*10), xy=(minimum_idx_One_NN_DUDE_LB*10, round(min_One_NN_DUDE_LB,3)), \n",
    "    #             xytext=(minimum_idx_One_NN_DUDE_LB*10-3, round(min_One_NN_DUDE_LB,3)+0.2),\n",
    "    #             arrowprops=dict(arrowstyle=\"->\",color='b',linewidth=1.5),color='b',weight='bold')\n",
    "    \n",
    "    #plt.annotate('%0.3f\\n(k=%d)' %(round(min_One_NN_DUDE_PD_LB,3),minimum_idx_One_NN_DUDE_PD_LB*10), xy=(minimum_idx_One_NN_DUDE_PD_LB*10, round(min_One_NN_DUDE_PD_LB,3)), \n",
    "    #             xytext=(minimum_idx_One_NN_DUDE_PD_LB*10-3, round(min_One_NN_DUDE_PD_LB,3)+0.1),\n",
    "    #             arrowprops=dict(arrowstyle=\"->\",color='b',linewidth=1.5),color='b',weight='bold')\n",
    "    \n",
    "    #plt.annotate('%0.3f\\n(k=%d)' %(round(min_Est_Loss_One_NN_DUDE,3),minimum_idx_Est_Loss_One_NN_DUDE*10), xy=(minimum_idx_Est_Loss_One_NN_DUDE*10, round(min_Est_Loss_One_NN_DUDE,3)), \n",
    "    #             xytext=(minimum_idx_Est_Loss_One_NN_DUDE*10-3, round(min_Est_Loss_One_NN_DUDE,3)+0.1),\n",
    "    #             arrowprops=dict(arrowstyle=\"->\",color='g',linewidth=1.5),color='g',weight='bold')\n",
    "    \n",
    "    #plt.annotate('%0.3f\\n(k=%d)' %(round(min_Est_Loss_One_NN_DUDE_PD,3),minimum_idx_Est_Loss_One_NN_DUDE_PD*10), xy=(minimum_idx_Est_Loss_One_NN_DUDE_PD*10, round(min_Est_Loss_One_NN_DUDE_PD,3)), \n",
    "    #             xytext=(minimum_idx_Est_Loss_One_NN_DUDE_PD*10-3, round(min_Est_Loss_One_NN_DUDE_PD,3)+0.1),\n",
    "    #             arrowprops=dict(arrowstyle=\"->\",color='g',linewidth=1.5),color='g',weight='bold')\n",
    "    \n",
    "    # calc the trendline (it is simply a linear fitting)\n",
    "    #z = np.polyfit(k, abs(Error_Two_NN_DUDE_PD1[i]-Est_Loss_Two_NN_DUDE_PD1[i])/delta[9], 1)\n",
    "    #p = np.poly1d(z)\n",
    "    #results.plot(k,p(k),'b-')\n",
    "    \n",
    "    plt.savefig('/HDD/user/yoon/Yoon_WS1/N-DUDE_WS1/NeuralDUDE_Delta_Variation/Results/TMP_%0.2f.pdf'%delta[i],bbox_inches='tight')"
   ]
  },
  {
   "cell_type": "code",
   "execution_count": 11,
   "metadata": {
    "collapsed": false
   },
   "outputs": [
    {
     "data": {
      "image/png": "[encoded data removed]",
      "text/plain": [
       "<matplotlib.figure.Figure at 0x7f24cc086e10>"
      ]
     },
     "metadata": {},
     "output_type": "display_data"
    }
   ],
   "source": [
    "k = arange(0,1100,100)\n",
    "\n",
    "for i in range(9,10):\n",
    "    fig=plt.figure(i)\n",
    "    results=plt.subplot(111)\n",
    "    \n",
    "    #results.plot(k,Error_Two_NN_DUDE3[i]/delta[9],'r-',linewidth=1.0)\n",
    "    #results.plot(k,Est_Loss_Two_NN_DUDE3[i]/delta[9],'b-',linewidth=1.0)\n",
    "    results.plot(k,abs(Est_Loss_Two_NN_DUDE3[i]/delta[9]-Error_Two_NN_DUDE3[i]/delta[9]),'r-',linewidth=1.0)\n",
    "    #results.plot(k,Error_Two_NN_DUDE_PD_LB1[i]/delta[9],'b-',linewidth=1.0)\n",
    "    #results.plot(k,Est_Loss_Two_NN_DUDE1[i]/delta[9],'g-',linewidth=1.0)\n",
    "    #results.plot(k,Est_Loss_Two_NN_DUDE_PD1[i]/delta[9],'g-',linewidth=1.0)\n",
    "    \n",
    "    plt.legend(['True loss','Est. loss'],fontsize=10,bbox_to_anchor=(1.0, 1.0))\n",
    "    #plt.ylim((0.1,1.0))\n",
    "    plt.title('2-D No padding, $\\delta$=0.1', fontweight='bold', fontstyle='italic', fontsize=16, horizontalalignment='center')\n",
    "    plt.grid()\n",
    "    plt.xlabel('Window size k',fontsize=12)\n",
    "    plt.ylabel('(Bit Error Rate) / $\\delta$',fontsize=12)\n",
    "    \n",
    "    #minimum_idx_One_DUDE=fd.find_min_idx(Error_One_DUDE1[i][:41])\n",
    "    #minimum_idx_One_NN_DUDE=fd.find_max_idx(abs(Error_Two_NN_DUDE1[i]-Est_Loss_Two_NN_DUDE1[i]))\n",
    "    minimum_idx_One_NN_DUDE_PD=fd.find_min_idx(Error_Two_NN_DUDE3[i])\n",
    "    #minimum_idx_One_NN_DUDE_PD=fd.find_max_idx(abs(Error_Two_NN_DUDE3[i]-Est_Loss_Two_NN_DUDE3[i]))\n",
    "    #minimum_idx_One_NN_DUDE_LB=fd.find_min_idx(Error_Two_NN_DUDE_LB1[i])\n",
    "    #minimum_idx_One_NN_DUDE_PD_LB=fd.find_min_idx(Error_Two_NN_DUDE_PD_LB1[i])\n",
    "    minimum_idx_Est_Loss_One_NN_DUDE=fd.find_min_idx(Est_Loss_Two_NN_DUDE3[i])\n",
    "    #minimum_idx_Est_Loss_One_NN_DUDE_PD=fd.find_min_idx(Est_Loss_Two_NN_DUDE_PD1[i])\n",
    "    \n",
    "    #min_One_DUDE=(min(Error_One_DUDE1[i][:41]))/delta[i]\n",
    "    #min_One_NN_DUDE=(max(abs(Error_Two_NN_DUDE1[i]-Est_Loss_Two_NN_DUDE1[i])))/delta[9]\n",
    "    min_One_NN_DUDE_PD=(min(Error_Two_NN_DUDE3[i]))/delta[9]\n",
    "    #min_One_NN_DUDE_PD=(max(abs(Error_Two_NN_DUDE3[i]-Est_Loss_Two_NN_DUDE3[i])))/delta[9]\n",
    "    #min_One_NN_DUDE_LB=(min(Error_Two_NN_DUDE_LB1[i]))/delta[9]\n",
    "    #min_One_NN_DUDE_PD_LB=(min(Error_Two_NN_DUDE_PD_LB1[i]))/delta[9]\n",
    "    min_Est_Loss_One_NN_DUDE=(min(Est_Loss_Two_NN_DUDE3[i]))/delta[9]\n",
    "    #min_Est_Loss_One_NN_DUDE_PD=(min(Est_Loss_Two_NN_DUDE_PD1[i]))/delta[9]\n",
    "    \n",
    "    \n",
    "    #plt.annotate('%0.3f\\n(k=%d)' %(round(min_One_DUDE,3),minimum_idx_One_DUDE), xy=(minimum_idx_One_DUDE, round(min_One_DUDE,3)), \n",
    "    #             xytext=(minimum_idx_One_DUDE, round(min_One_DUDE,3)+0.1),\n",
    "    #             arrowprops=dict(arrowstyle=\"->\",color='r',linewidth=1.5),color='r',weight='bold')\n",
    "    \n",
    "    plt.annotate('%0.3f\\n(k=%d)' %(round(min_One_NN_DUDE_PD,3),(minimum_idx_One_NN_DUDE_PD)*100), xy=(minimum_idx_One_NN_DUDE_PD*100, round(min_One_NN_DUDE_PD,3)), \n",
    "                 xytext=(minimum_idx_One_NN_DUDE_PD*100, round(min_One_NN_DUDE_PD,3)+0.1),\n",
    "                 arrowprops=dict(arrowstyle=\"->\",color='r',linewidth=1.5),color='r',weight='bold')\n",
    "    \n",
    "    plt.annotate('%0.3f\\n(k=%d)' %(round(min_Est_Loss_One_NN_DUDE,3),(minimum_idx_Est_Loss_One_NN_DUDE)*100), xy=(minimum_idx_Est_Loss_One_NN_DUDE*100, round(min_Est_Loss_One_NN_DUDE,3)), \n",
    "                 xytext=(minimum_idx_Est_Loss_One_NN_DUDE*100+50, round(min_Est_Loss_One_NN_DUDE,3)+0.1),\n",
    "                 arrowprops=dict(arrowstyle=\"->\",color='b',linewidth=1.5),color='b',weight='bold')\n",
    "    \n",
    "    #plt.annotate('%0.3f\\n(k=%d)' %(round(min_One_NN_DUDE_PD,3),minimum_idx_One_NN_DUDE_PD*10), xy=(minimum_idx_One_NN_DUDE_PD*10, round(min_One_NN_DUDE_PD,3)), \n",
    "    #             xytext=(minimum_idx_One_NN_DUDE_PD*10, round(min_One_NN_DUDE_PD,3)+0.2),\n",
    "    #             arrowprops=dict(arrowstyle=\"->\",color='b',linewidth=1.5),color='b',weight='bold')\n",
    "    \n",
    "    #plt.annotate('%0.3f\\n(k=%d)' %(round(min_One_NN_DUDE_PD,3),minimum_idx_One_NN_DUDE_PD*10), xy=(minimum_idx_One_NN_DUDE_PD*10, round(min_One_NN_DUDE_PD,4)), \n",
    "    #             xytext=(minimum_idx_One_NN_DUDE_PD*10, round(min_One_NN_DUDE_PD,4)+0.01),\n",
    "    #             arrowprops=dict(arrowstyle=\"->\",color='r',linewidth=1.5),color='r',weight='bold')\n",
    "    \n",
    "    #plt.annotate('%0.3f\\n(k=%d)' %(round(min_One_NN_DUDE_LB,3),minimum_idx_One_NN_DUDE_LB*10), xy=(minimum_idx_One_NN_DUDE_LB*10, round(min_One_NN_DUDE_LB,3)), \n",
    "    #             xytext=(minimum_idx_One_NN_DUDE_LB*10-3, round(min_One_NN_DUDE_LB,3)+0.2),\n",
    "    #             arrowprops=dict(arrowstyle=\"->\",color='b',linewidth=1.5),color='b',weight='bold')\n",
    "    \n",
    "    #plt.annotate('%0.3f\\n(k=%d)' %(round(min_One_NN_DUDE_PD_LB,3),minimum_idx_One_NN_DUDE_PD_LB*10), xy=(minimum_idx_One_NN_DUDE_PD_LB*10, round(min_One_NN_DUDE_PD_LB,3)), \n",
    "    #             xytext=(minimum_idx_One_NN_DUDE_PD_LB*10-3, round(min_One_NN_DUDE_PD_LB,3)+0.1),\n",
    "    #             arrowprops=dict(arrowstyle=\"->\",color='b',linewidth=1.5),color='b',weight='bold')\n",
    "    \n",
    "    #plt.annotate('%0.3f\\n(k=%d)' %(round(min_Est_Loss_One_NN_DUDE,3),minimum_idx_Est_Loss_One_NN_DUDE*10), xy=(minimum_idx_Est_Loss_One_NN_DUDE*10, round(min_Est_Loss_One_NN_DUDE,3)), \n",
    "    #             xytext=(minimum_idx_Est_Loss_One_NN_DUDE*10-3, round(min_Est_Loss_One_NN_DUDE,3)+0.1),\n",
    "    #             arrowprops=dict(arrowstyle=\"->\",color='g',linewidth=1.5),color='g',weight='bold')\n",
    "    \n",
    "    #plt.annotate('%0.3f\\n(k=%d)' %(round(min_Est_Loss_One_NN_DUDE_PD,3),minimum_idx_Est_Loss_One_NN_DUDE_PD*10), xy=(minimum_idx_Est_Loss_One_NN_DUDE_PD*10, round(min_Est_Loss_One_NN_DUDE_PD,3)), \n",
    "    #             xytext=(minimum_idx_Est_Loss_One_NN_DUDE_PD*10-3, round(min_Est_Loss_One_NN_DUDE_PD,3)+0.1),\n",
    "    #             arrowprops=dict(arrowstyle=\"->\",color='g',linewidth=1.5),color='g',weight='bold')\n",
    "    \n",
    "    # calc the trendline (it is simply a linear fitting)\n",
    "    #z = np.polyfit(k, abs(Error_Two_NN_DUDE_PD1[i]-Est_Loss_Two_NN_DUDE_PD1[i])/delta[9], 1)\n",
    "    #p = np.poly1d(z)\n",
    "    #results.plot(k,p(k),'b-')\n",
    "    \n",
    "    plt.savefig('/HDD/user/yoon/Yoon_WS1/N-DUDE_WS1/NeuralDUDE_Delta_Variation/Results/Concentration_test.pdf'%delta[i],bbox_inches='tight')"
   ]
  },
  {
   "cell_type": "code",
   "execution_count": null,
   "metadata": {
    "collapsed": false
   },
   "outputs": [],
   "source": [
    "p1=Scatter(x=k,y=Error_One_DUDE2)\n",
    "p2=Scatter(x=k,y=Error_One_NN_DUDE2)\n",
    "data=Data([p1, p2])\n",
    "py.plot(data, filename = 'basic-line')"
   ]
  },
  {
   "cell_type": "code",
   "execution_count": null,
   "metadata": {
    "collapsed": false
   },
   "outputs": [],
   "source": [
    "result1=np.load('./Neural_DUDE_Result_lena512_Basics_One_delta0.1_k=100.npz')\n",
    "result2=np.load('./Neural_DUDE_Result_lena512_Basics_One_delta0.1_after100.npz')\n",
    "result3=np.load('./Neural_DUDE_Result_lena512_Basics_Two_delta0.1_k=100.npz')\n",
    "result4=np.load('./Neural_DUDE_Result_lena512_Basics_Two_delta0.1_after100.npz')"
   ]
  },
  {
   "cell_type": "code",
   "execution_count": null,
   "metadata": {
    "collapsed": false
   },
   "outputs": [],
   "source": [
    "result1=np.load('./Neural_DUDE_Result_lena512_Basics_One_delta0.1_k=100_node120.npz')\n",
    "result2=np.load('./Neural_DUDE_Result_lena512_Basics_One_delta0.1_k=101_node120.npz')\n",
    "result3=np.load('./Neural_DUDE_Result_lena512_Basics_Two_delta0.1_k=100_node120.npz')\n",
    "result4=np.load('./Neural_DUDE_Result_lena512_Basics_Two_delta0.1_k=101_node120.npz')"
   ]
  },
  {
   "cell_type": "code",
   "execution_count": null,
   "metadata": {
    "collapsed": true
   },
   "outputs": [],
   "source": [
    "Error_One_DUDE1=result1['Error_One_DUDE']\n",
    "Error_One_NN_DUDE1=result1['Error_One_NN_DUDE']\n",
    "Error_One_NN_DUDE_PD1=result1['Error_One_NN_DUDE_PD']\n",
    "Error_One_DUDE2=result2['Error_One_DUDE']\n",
    "Error_One_NN_DUDE2=result2['Error_One_NN_DUDE']\n",
    "Error_One_NN_DUDE_PD2=result2['Error_One_NN_DUDE_PD']"
   ]
  },
  {
   "cell_type": "code",
   "execution_count": null,
   "metadata": {
    "collapsed": false
   },
   "outputs": [],
   "source": [
    "Error_Two_DUDE3=result3['Error_Two_DUDE']\n",
    "Error_Two_NN_DUDE3=result3['Error_Two_NN_DUDE']\n",
    "Error_Two_NN_DUDE_PD3=result3['Error_Two_NN_DUDE_PD']\n",
    "Error_Two_DUDE4=result4['Error_Two_DUDE']\n",
    "Error_Two_NN_DUDE4=result4['Error_Two_NN_DUDE']\n",
    "Error_Two_NN_DUDE_PD4=result4['Error_Two_NN_DUDE_PD']"
   ]
  },
  {
   "cell_type": "code",
   "execution_count": null,
   "metadata": {
    "collapsed": false
   },
   "outputs": [],
   "source": [
    "Error_One_DUDE2[0,:101]=Error_One_DUDE1[9].reshape(1,101)\n",
    "Error_One_NN_DUDE2[0,:101]=Error_One_NN_DUDE1[9].reshape(1,101)\n",
    "Error_One_NN_DUDE_PD2[0,:101]=Error_One_NN_DUDE_PD1[9].reshape(1,101)"
   ]
  },
  {
   "cell_type": "code",
   "execution_count": null,
   "metadata": {
    "collapsed": true
   },
   "outputs": [],
   "source": [
    "Error_Two_DUDE4[0,:101]=Error_Two_DUDE3[9].reshape(1,101)\n",
    "Error_Two_NN_DUDE4[0,:101]=Error_Two_NN_DUDE3[9].reshape(1,101)\n",
    "Error_Two_NN_DUDE_PD4[0,:101]=Error_Two_NN_DUDE_PD3[9].reshape(1,101)"
   ]
  },
  {
   "cell_type": "code",
   "execution_count": null,
   "metadata": {
    "collapsed": false
   },
   "outputs": [],
   "source": [
    "k_max=200\n",
    "delta=[0.1]\n",
    "k=range(k_max+1)"
   ]
  },
  {
   "cell_type": "code",
   "execution_count": null,
   "metadata": {
    "collapsed": false
   },
   "outputs": [],
   "source": [
    "k=range(k_max+1)\n",
    "\n",
    "for i in range(len(delta)):\n",
    "    fig=plt.figure(i)\n",
    "    results=plt.subplot(111)\n",
    "    \n",
    "    results.plot(k,Error_One_DUDE2[i]/delta[i],'k-',linewidth=1.0)\n",
    "    results.plot(k,Error_One_NN_DUDE2[i]/delta[i],'r-',linewidth=1.0)\n",
    "    results.plot(k,Error_One_NN_DUDE_PD2[i]/delta[i],'b-',linewidth=1.0)\n",
    "    results.plot(k,Error_Two_DUDE4[i]/delta[i],'g-',linewidth=1.0)\n",
    "    results.plot(k,Error_Two_NN_DUDE4[i]/delta[i],'y-',linewidth=1.0)\n",
    "    results.plot(k,Error_Two_NN_DUDE_PD4[i]/delta[i],'m-',linewidth=1.0)\n",
    "    \n",
    "    plt.legend(['1-D DUDE','1-D N-DUDE','1-D N-DUDE Padding','2-D DUDE', '2-D N-DUDE', '2-D N-DUDE Padding'],fontsize=10,bbox_to_anchor=(1.6, 1.0))\n",
    "    plt.ylim((0.0,1.1))\n",
    "    plt.title('k=~200, # of node=120, $\\delta$=%0.2f, epoch=10'% delta[i], fontweight='bold', fontstyle='italic', fontsize=16, horizontalalignment='center')\n",
    "\n",
    "    plt.xlabel('Window size k',fontsize=12)\n",
    "    plt.ylabel('(Bit Error Rate) / $\\delta$',fontsize=12)\n",
    "    \n",
    "    minimum_idx_One_DUDE=fd.find_min_idx(Error_One_DUDE2[i])\n",
    "    minimum_idx_One_NN_DUDE=fd.find_min_idx(Error_One_NN_DUDE2[i])\n",
    "    minimum_idx_One_NN_DUDE_PD=fd.find_min_idx(Error_One_NN_DUDE_PD2[i])\n",
    "    minimum_idx_Two_DUDE=fd.find_min_idx(Error_Two_DUDE4[i])\n",
    "    minimum_idx_Two_NN_DUDE=fd.find_min_idx(Error_Two_NN_DUDE4[i])\n",
    "    minimum_idx_Two_NN_DUDE_PD=fd.find_min_idx(Error_Two_NN_DUDE_PD4[i])\n",
    "    \n",
    "    min_One_DUDE=(min(Error_One_DUDE2[i]))/delta[i]\n",
    "    min_One_NN_DUDE=(min(Error_One_NN_DUDE2[i]))/delta[i]\n",
    "    min_One_NN_DUDE_PD=(min(Error_One_NN_DUDE_PD2[i]))/delta[i]\n",
    "    min_Two_DUDE=(min(Error_Two_DUDE4[i]))/delta[i]\n",
    "    min_Two_NN_DUDE=(min(Error_Two_NN_DUDE4[i]))/delta[i]\n",
    "    min_Two_NN_DUDE_PD=(min(Error_Two_NN_DUDE_PD4[i]))/delta[i]\n",
    "    \n",
    "    plt.annotate('%0.3f$\\delta$, k=%d' %(round(min_One_DUDE,3),minimum_idx_One_DUDE), xy=(minimum_idx_One_DUDE, round(min_One_DUDE,3)), \n",
    "                 xytext=(minimum_idx_One_DUDE-4, round(min_One_DUDE,3)+0.2),\n",
    "                 arrowprops=dict(arrowstyle=\"->\",connectionstyle=\"angle,angleA=0,angleB=90,rad=10\",color='k',linewidth=1.5),color='k',weight='bold')\n",
    "    \n",
    "    plt.annotate('%0.3f$\\delta$, k=%d' %(round(min_One_NN_DUDE,3),minimum_idx_One_NN_DUDE), xy=(minimum_idx_One_NN_DUDE, round(min_One_NN_DUDE,3)), \n",
    "                 xytext=(minimum_idx_One_NN_DUDE-4, round(min_One_NN_DUDE,3)+0.3),\n",
    "                 arrowprops=dict(arrowstyle=\"->\",connectionstyle=\"angle,angleA=0,angleB=90,rad=10\",color='r',linewidth=1.5),color='r',weight='bold')\n",
    "    \n",
    "    plt.annotate('%0.3f$\\delta$, k=%d' %(round(min_One_NN_DUDE_PD,3),minimum_idx_One_NN_DUDE_PD), xy=(minimum_idx_One_NN_DUDE_PD, round(min_One_NN_DUDE_PD,3)), \n",
    "                 xytext=(minimum_idx_One_NN_DUDE_PD-4, round(min_One_NN_DUDE_PD,3)+0.2),\n",
    "                 arrowprops=dict(arrowstyle=\"->\",connectionstyle=\"angle,angleA=0,angleB=90,rad=10\",color='b',linewidth=1.5),color='b',weight='bold')\n",
    "    \n",
    "    plt.annotate('%0.3f$\\delta$, k=%d' %(round(min_Two_DUDE,3),minimum_idx_Two_DUDE), xy=(minimum_idx_Two_DUDE, round(min_Two_DUDE,3)), \n",
    "                 xytext=(minimum_idx_Two_DUDE-4, round(min_Two_DUDE,3)-0.1),\n",
    "                 arrowprops=dict(arrowstyle=\"->\",connectionstyle=\"angle,angleA=0,angleB=90,rad=10\",color='g',linewidth=1.5),color='g',weight='bold')\n",
    "    \n",
    "    plt.annotate('%0.3f$\\delta$, k=%d' %(round(min_Two_NN_DUDE,3),minimum_idx_Two_NN_DUDE), xy=(minimum_idx_Two_NN_DUDE, round(min_Two_NN_DUDE,3)), \n",
    "                 xytext=(minimum_idx_Two_NN_DUDE-4, round(min_Two_NN_DUDE,3)+0.3),\n",
    "                 arrowprops=dict(arrowstyle=\"->\",connectionstyle=\"angle,angleA=0,angleB=90,rad=10\",color='y',linewidth=1.5),color='y',weight='bold')\n",
    "    \n",
    "    plt.annotate('%0.3f$\\delta$, k=%d' %(round(min_Two_NN_DUDE_PD,3),minimum_idx_Two_NN_DUDE_PD), xy=(minimum_idx_Two_NN_DUDE_PD, round(min_Two_NN_DUDE_PD,3)), \n",
    "                 xytext=(minimum_idx_Two_NN_DUDE_PD-4, round(min_Two_NN_DUDE_PD,3)-0.1),\n",
    "                 arrowprops=dict(arrowstyle=\"->\",connectionstyle=\"angle,angleA=0,angleB=90,rad=10\",color='m',linewidth=1.5),color='m',weight='bold')\n",
    "    \n",
    "    \n",
    "    plt.savefig('/HDD/user/yoon/Yoon_WS1/N-DUDE_WS1/NeuralDUDE_Delta_Variation/Results/k=200&delta=0.1&node=120.pdf',bbox_inches='tight')"
   ]
  },
  {
   "cell_type": "code",
   "execution_count": null,
   "metadata": {
    "collapsed": true
   },
   "outputs": [],
   "source": [
    "result4=np.load('./Warm_Start_One_NN_DUDE_CB_delta0.1.npz')\n",
    "Error_One_NN_DUDE_Bind2=result4['Error_One_NN_DUDE_Bind']"
   ]
  },
  {
   "cell_type": "code",
   "execution_count": null,
   "metadata": {
    "collapsed": true
   },
   "outputs": [],
   "source": [
    "Error_One_NN_DUDE_Bind_non=Error_One_NN_DUDE_Bind1+Error_One_NN_DUDE_Bind2\n",
    "Error_One_NN_DUDE_Bind_non[0][0]=0.01\n",
    "Error_One_NN_DUDE_Bind_non[9][0]=0.1"
   ]
  },
  {
   "cell_type": "code",
   "execution_count": null,
   "metadata": {
    "collapsed": true
   },
   "outputs": [],
   "source": [
    "Error_One_NN_DUDE_Bind_non_scale=vstack((Error_One_NN_DUDE_Bind_non[0],Error_One_NN_DUDE_Bind_non[9]))"
   ]
  },
  {
   "cell_type": "code",
   "execution_count": null,
   "metadata": {
    "collapsed": true
   },
   "outputs": [],
   "source": [
    "result5=np.load('./Neural_DUDE_Result_lena512_Basics_One.npz')\n",
    "Error_One_NN_DUDE5=result5['Error_One_NN_DUDE'] # clear\n",
    "Error_One_NN_DUDE_PD5=result5['Error_One_NN_DUDE_PD']"
   ]
  },
  {
   "cell_type": "code",
   "execution_count": null,
   "metadata": {
    "collapsed": true
   },
   "outputs": [],
   "source": [
    "result6=np.load('./Neural_DUDE_Result_lena512_Basics_One_after0.07.npz')\n",
    "Error_One_NN_DUDE6=result6['Error_One_NN_DUDE'] # clear\n",
    "Error_One_NN_DUDE_PD6=result6['Error_One_NN_DUDE_PD']"
   ]
  },
  {
   "cell_type": "code",
   "execution_count": null,
   "metadata": {
    "collapsed": true
   },
   "outputs": [],
   "source": [
    "Error_One_NN_DUDE=vstack((Error_One_NN_DUDE5[0],Error_One_NN_DUDE6[9]))\n",
    "Error_One_NN_DUDE_PD=vstack((Error_One_NN_DUDE_PD5[0],Error_One_NN_DUDE_PD6[9]))"
   ]
  },
  {
   "cell_type": "code",
   "execution_count": null,
   "metadata": {
    "collapsed": false
   },
   "outputs": [],
   "source": [
    "v=var(Error_One_NN_DUDE_PD[0]/0.01)\n",
    "print v"
   ]
  },
  {
   "cell_type": "code",
   "execution_count": null,
   "metadata": {
    "collapsed": false
   },
   "outputs": [],
   "source": [
    "v2=var(Error_One_NN_DUDE[0]/0.01)\n",
    "print v2"
   ]
  },
  {
   "cell_type": "code",
   "execution_count": null,
   "metadata": {
    "collapsed": false
   },
   "outputs": [],
   "source": [
    "result7=np.load('./Neural_DUDE_Result_lena512_Combined&Norm.npz')\n",
    "Error_One_NN_DUDE_Bind7=result7['Error_One_NN_DUDE_Bind'] # clear"
   ]
  },
  {
   "cell_type": "code",
   "execution_count": null,
   "metadata": {
    "collapsed": false
   },
   "outputs": [],
   "source": [
    "Error_One_NN_DUDE_Bind=vstack((Error_One_NN_DUDE_Bind7[0],Error_One_NN_DUDE_Bind7[9]))"
   ]
  },
  {
   "cell_type": "code",
   "execution_count": null,
   "metadata": {
    "collapsed": false
   },
   "outputs": [],
   "source": [
    "v=var(Error_One_NN_DUDE_Bind[0]/0.01)\n",
    "print v"
   ]
  },
  {
   "cell_type": "code",
   "execution_count": null,
   "metadata": {
    "collapsed": false
   },
   "outputs": [],
   "source": [
    "v=var(Error_One_NN_DUDE_Bind_non_scale[0]/0.01)\n",
    "print v"
   ]
  },
  {
   "cell_type": "code",
   "execution_count": null,
   "metadata": {
    "collapsed": true
   },
   "outputs": [],
   "source": [
    "k_max=40\n",
    "delta=[0.01,0.1]"
   ]
  },
  {
   "cell_type": "code",
   "execution_count": null,
   "metadata": {
    "collapsed": false,
    "scrolled": false
   },
   "outputs": [],
   "source": [
    "k=range(k_max+1)\n",
    "\n",
    "for i in range(len(delta)):\n",
    "    fig=plt.figure(i)\n",
    "    results=plt.subplot(111)\n",
    "    \n",
    "    results.plot(k,Error_One_NN_DUDE[i]/delta[i],'k-',marker='.',linewidth=1.0)\n",
    "    results.plot(k,Error_One_NN_DUDE_non_scale[i]/delta[i],'r-',marker='.',linewidth=1.0)\n",
    "    results.plot(k,Error_One_NN_DUDE_PD[i]/delta[i],'b-',marker='.',linewidth=1.0)\n",
    "    results.plot(k,Error_One_NN_DUDE_PD_non_scale[i]/delta[i],'g-',marker='.',linewidth=1.0)\n",
    "    results.plot(k,Error_One_NN_DUDE_Bind[i]/delta[i],'y-',marker='.',linewidth=1.0)\n",
    "    results.plot(k,Error_One_NN_DUDE_Bind_non_scale[i]/delta[i],'m-',marker='.',linewidth=1.0)\n",
    "    \n",
    "    plt.legend(['N-DUDE','N-DUDE_WS','N-DUDE Padding','N-DUDE Padding_WS','Combine','Combine_WS'],fontsize=10,bbox_to_anchor=(1.6, 1.0))\n",
    "    plt.ylim((0.4,1.6))\n",
    "    plt.title('Warm Start(non-scaled), $\\delta$=%0.2f, epoch=10'% delta[i], fontweight='bold', fontstyle='italic', fontsize=16, horizontalalignment='center')\n",
    "\n",
    "    plt.xlabel('Window size k',fontsize=12)\n",
    "    plt.ylabel('(Bit Error Rate) / $\\delta$',fontsize=12)\n",
    "    \n",
    "    minimum_idx_One_NN_DUDE=fd.find_min_idx(Error_One_NN_DUDE[i])\n",
    "    minimum_idx_One_NN_DUDE_non=fd.find_min_idx(Error_One_NN_DUDE_non_scale[i])\n",
    "    minimum_idx_One_NN_DUDE_PD=fd.find_min_idx(Error_One_NN_DUDE_PD[i])\n",
    "    minimum_idx_One_NN_DUDE_PD_non=fd.find_min_idx(Error_One_NN_DUDE_PD_non_scale[i])\n",
    "    minimum_idx_One_NN_DUDE_Bind=fd.find_min_idx(Error_One_NN_DUDE_Bind[i])\n",
    "    minimum_idx_One_NN_DUDE_Bind_non=fd.find_min_idx(Error_One_NN_DUDE_Bind_non_scale[i])\n",
    "    \n",
    "    min_One_NN_DUDE=(min(Error_One_NN_DUDE[i]))/delta[i]\n",
    "    min_One_NN_DUDE_non=(min(Error_One_NN_DUDE_non_scale[i]))/delta[i]\n",
    "    min_One_NN_DUDE_PD=(min(Error_One_NN_DUDE_PD[i]))/delta[i]\n",
    "    min_One_NN_DUDE_PD_non=(min(Error_One_NN_DUDE_PD_non_scale[i]))/delta[i]\n",
    "    min_One_NN_DUDE_Bind=(min(Error_One_NN_DUDE_Bind[i]))/delta[i]\n",
    "    min_One_NN_DUDE_Bind_non=(min(Error_One_NN_DUDE_Bind_non_scale[i]))/delta[i]\n",
    "    \n",
    "    plt.annotate('%0.3f$\\delta$, k=%d' %(round(min_One_NN_DUDE,3),minimum_idx_One_NN_DUDE), xy=(minimum_idx_One_NN_DUDE, round(min_One_NN_DUDE,3)), \n",
    "                 xytext=(minimum_idx_One_NN_DUDE-4, round(min_One_NN_DUDE,3)+0.7),\n",
    "                 arrowprops=dict(arrowstyle=\"->\",connectionstyle=\"angle,angleA=0,angleB=90,rad=10\",color='k',linewidth=1.5),color='k',weight='bold')\n",
    "    \n",
    "    plt.annotate('%0.3f$\\delta$, k=%d' %(round(min_One_NN_DUDE_non,3),minimum_idx_One_NN_DUDE_non), xy=(minimum_idx_One_NN_DUDE_non, round(min_One_NN_DUDE_non,3)), \n",
    "                 xytext=(minimum_idx_One_NN_DUDE_non-4, round(min_One_NN_DUDE_non,3)+0.7),\n",
    "                 arrowprops=dict(arrowstyle=\"->\",connectionstyle=\"angle,angleA=0,angleB=90,rad=10\",color='r',linewidth=1.5),color='r',weight='bold')\n",
    "    \n",
    "    plt.annotate('%0.3f$\\delta$, k=%d' %(round(min_One_NN_DUDE_PD,3),minimum_idx_One_NN_DUDE_PD), xy=(minimum_idx_One_NN_DUDE_PD, round(min_One_NN_DUDE_PD,3)), \n",
    "                 xytext=(minimum_idx_One_NN_DUDE_PD-4, round(min_One_NN_DUDE_PD,3)+0.6),\n",
    "                 arrowprops=dict(arrowstyle=\"->\",connectionstyle=\"angle,angleA=0,angleB=90,rad=10\",color='b',linewidth=1.5),color='b',weight='bold')\n",
    "    \n",
    "    plt.annotate('%0.3f$\\delta$, k=%d' %(round(min_One_NN_DUDE_PD_non,3),minimum_idx_One_NN_DUDE_PD_non), xy=(minimum_idx_One_NN_DUDE_PD_non, round(min_One_NN_DUDE_PD_non,3)), \n",
    "                 xytext=(minimum_idx_One_NN_DUDE_PD_non-4, round(min_One_NN_DUDE_PD_non,3)+0.4),\n",
    "                 arrowprops=dict(arrowstyle=\"->\",connectionstyle=\"angle,angleA=0,angleB=90,rad=10\",color='g',linewidth=1.5),color='g',weight='bold')\n",
    "    \n",
    "    plt.annotate('%0.3f$\\delta$, k=%d' %(round(min_One_NN_DUDE_Bind,3),minimum_idx_One_NN_DUDE_Bind), xy=(minimum_idx_One_NN_DUDE_Bind, round(min_One_NN_DUDE_Bind,3)), \n",
    "                 xytext=(minimum_idx_One_NN_DUDE_Bind-4, round(min_One_NN_DUDE_Bind,3)+0.5),\n",
    "                 arrowprops=dict(arrowstyle=\"->\",connectionstyle=\"angle,angleA=0,angleB=90,rad=10\",color='y',linewidth=1.5),color='y',weight='bold')\n",
    "    \n",
    "    plt.annotate('%0.3f$\\delta$, k=%d' %(round(min_One_NN_DUDE_Bind_non,3),minimum_idx_One_NN_DUDE_Bind_non), xy=(minimum_idx_One_NN_DUDE_Bind_non, round(min_One_NN_DUDE_Bind_non,3)), \n",
    "                 xytext=(minimum_idx_One_NN_DUDE_Bind_non-4, round(min_One_NN_DUDE_Bind_non,3)+0.5),\n",
    "                 arrowprops=dict(arrowstyle=\"->\",connectionstyle=\"angle,angleA=0,angleB=90,rad=10\",color='m',linewidth=1.5),color='m',weight='bold')\n",
    "    \n",
    "    plt.savefig('/HDD/user/yoon/Yoon_SV4/N-DUDE_SV4/NeuralDUDE_Delta_Variation/Results/Non_all_delta=%0.2f.pdf'%delta[i],bbox_inches='tight')"
   ]
  },
  {
   "cell_type": "code",
   "execution_count": null,
   "metadata": {
    "collapsed": true
   },
   "outputs": [],
   "source": [
    "result10=np.load('./Warm_Start_One_NN_DUDE_Scaling.npz')\n",
    "Error_One_NN_DUDE_scale=result10['Error_One_NN_DUDE']"
   ]
  },
  {
   "cell_type": "code",
   "execution_count": null,
   "metadata": {
    "collapsed": false
   },
   "outputs": [],
   "source": [
    "Error_One_NN_DUDE_scale=vstack((Error_One_NN_DUDE_scale[0],Error_One_NN_DUDE_scale[9]))\n",
    "print Error_One_NN_DUDE_scale"
   ]
  },
  {
   "cell_type": "code",
   "execution_count": null,
   "metadata": {
    "collapsed": true
   },
   "outputs": [],
   "source": [
    "result11=np.load('./Warm_Start_One_NN_DUDE_PD_Scaling.npz')\n",
    "Error_One_NN_DUDE_PD_scale=result11['Error_One_NN_DUDE_PD']"
   ]
  },
  {
   "cell_type": "code",
   "execution_count": null,
   "metadata": {
    "collapsed": false
   },
   "outputs": [],
   "source": [
    "Error_One_NN_DUDE_PD_scale=vstack((Error_One_NN_DUDE_PD_scale[0],Error_One_NN_DUDE_PD_scale[9]))\n",
    "print Error_One_NN_DUDE_PD_scale"
   ]
  },
  {
   "cell_type": "code",
   "execution_count": null,
   "metadata": {
    "collapsed": false
   },
   "outputs": [],
   "source": [
    "result12=np.load('./Warm_Start_One_NN_DUDE_CB_Scaling.npz')\n",
    "Error_One_NN_DUDE_CB_scale1=result12['Error_One_NN_DUDE_Bind']"
   ]
  },
  {
   "cell_type": "code",
   "execution_count": null,
   "metadata": {
    "collapsed": true
   },
   "outputs": [],
   "source": [
    "result13=np.load('./Warm_Start_One_NN_DUDE_CB_Scaling_delta0.1.npz')\n",
    "Error_One_NN_DUDE_CB_scale2=result13['Error_One_NN_DUDE_Bind']"
   ]
  },
  {
   "cell_type": "code",
   "execution_count": null,
   "metadata": {
    "collapsed": false
   },
   "outputs": [],
   "source": [
    "Error_One_NN_DUDE_Bind_scale=vstack((Error_One_NN_DUDE_CB_scale1[0],Error_One_NN_DUDE_CB_scale2[9]))\n",
    "print Error_One_NN_DUDE_Bind_scale"
   ]
  },
  {
   "cell_type": "code",
   "execution_count": null,
   "metadata": {
    "collapsed": false
   },
   "outputs": [],
   "source": [
    "v=var(Error_One_NN_DUDE_Bind_scale[0]/0.01)\n",
    "print v"
   ]
  },
  {
   "cell_type": "code",
   "execution_count": null,
   "metadata": {
    "collapsed": false
   },
   "outputs": [],
   "source": [
    "v=var(Error_One_NN_DUDE_Bind[0]/0.01)\n",
    "print v"
   ]
  },
  {
   "cell_type": "code",
   "execution_count": null,
   "metadata": {
    "collapsed": false
   },
   "outputs": [],
   "source": [
    "v=var(Error_One_NN_DUDE_scale[0]/0.01)\n",
    "print v"
   ]
  },
  {
   "cell_type": "code",
   "execution_count": null,
   "metadata": {
    "collapsed": false
   },
   "outputs": [],
   "source": [
    "v=var(Error_One_NN_DUDE[0]/0.01)\n",
    "print v"
   ]
  },
  {
   "cell_type": "code",
   "execution_count": null,
   "metadata": {
    "collapsed": false
   },
   "outputs": [],
   "source": [
    "v=var(Error_One_NN_DUDE_PD_scale[0]/0.01)\n",
    "print v"
   ]
  },
  {
   "cell_type": "code",
   "execution_count": null,
   "metadata": {
    "collapsed": false
   },
   "outputs": [],
   "source": [
    "v=var(Error_One_NN_DUDE_PD[0]/0.01)\n",
    "print v"
   ]
  },
  {
   "cell_type": "code",
   "execution_count": null,
   "metadata": {
    "collapsed": false,
    "scrolled": false
   },
   "outputs": [],
   "source": [
    "k=range(k_max+1)\n",
    "\n",
    "for i in range(len(delta)):\n",
    "    fig=plt.figure(i)\n",
    "    results=plt.subplot(111)\n",
    "    \n",
    "    results.plot(k,Error_One_NN_DUDE[i]/delta[i],'k-',marker='.',linewidth=1.0)\n",
    "    results.plot(k,Error_One_NN_DUDE_scale[i]/delta[i],'r-',marker='.',linewidth=1.0)\n",
    "    results.plot(k,Error_One_NN_DUDE_PD[i]/delta[i],'b-',marker='.',linewidth=1.0)\n",
    "    results.plot(k,Error_One_NN_DUDE_PD_scale[i]/delta[i],'g-',marker='.',linewidth=1.0)\n",
    "    results.plot(k,Error_One_NN_DUDE_Bind[i]/delta[i],'y-',marker='.',linewidth=1.0)\n",
    "    results.plot(k,Error_One_NN_DUDE_Bind_scale[i]/delta[i],'m-',marker='.',linewidth=1.0)\n",
    "    \n",
    "    plt.legend(['N-DUDE','N-DUDE_WS','N_DUDE Padding','N-DUDE Padding_WS','Combine','Combine_WS'],fontsize=10,bbox_to_anchor=(1.6, 1.0))\n",
    "    plt.ylim((0.4,1.6))\n",
    "    plt.title('Warm Start(scaled), $\\delta$=%0.2f, epoch=10'% delta[i], fontweight='bold', fontstyle='italic', fontsize=16, horizontalalignment='center')\n",
    "\n",
    "    plt.xlabel('Window size k',fontsize=12)\n",
    "    plt.ylabel('(Bit Error Rate) / $\\delta$',fontsize=12)\n",
    "    \n",
    "    minimum_idx_One_NN_DUDE=fd.find_min_idx(Error_One_NN_DUDE[i])\n",
    "    minimum_idx_One_NN_DUDE_scale=fd.find_min_idx(Error_One_NN_DUDE_scale[i])\n",
    "    minimum_idx_One_NN_DUDE_PD=fd.find_min_idx(Error_One_NN_DUDE_PD[i])\n",
    "    minimum_idx_One_NN_DUDE_PD_scale=fd.find_min_idx(Error_One_NN_DUDE_PD_scale[i])\n",
    "    minimum_idx_One_NN_DUDE_Bind=fd.find_min_idx(Error_One_NN_DUDE_Bind[i])\n",
    "    minimum_idx_One_NN_DUDE_Bind_scale=fd.find_min_idx(Error_One_NN_DUDE_Bind_scale[i])\n",
    "    \n",
    "    min_One_NN_DUDE=(min(Error_One_NN_DUDE[i]))/delta[i]\n",
    "    min_One_NN_DUDE_scale=(min(Error_One_NN_DUDE_scale[i]))/delta[i]\n",
    "    min_One_NN_DUDE_PD=(min(Error_One_NN_DUDE_PD[i]))/delta[i]\n",
    "    min_One_NN_DUDE_PD_scale=(min(Error_One_NN_DUDE_PD_scale[i]))/delta[i]\n",
    "    min_One_NN_DUDE_Bind=(min(Error_One_NN_DUDE_Bind[i]))/delta[i]\n",
    "    min_One_NN_DUDE_Bind_scale=(min(Error_One_NN_DUDE_Bind_scale[i]))/delta[i]\n",
    "    \n",
    "    plt.annotate('%0.3f$\\delta$, k=%d' %(round(min_One_NN_DUDE,3),minimum_idx_One_NN_DUDE), xy=(minimum_idx_One_NN_DUDE, round(min_One_NN_DUDE,3)), \n",
    "                 xytext=(minimum_idx_One_NN_DUDE-4, round(min_One_NN_DUDE,3)+0.7),\n",
    "                 arrowprops=dict(arrowstyle=\"->\",connectionstyle=\"angle,angleA=0,angleB=90,rad=10\",color='k',linewidth=1.5),color='k',weight='bold')\n",
    "    \n",
    "    plt.annotate('%0.3f$\\delta$, k=%d' %(round(min_One_NN_DUDE_scale,3),minimum_idx_One_NN_DUDE_scale), xy=(minimum_idx_One_NN_DUDE_scale, round(min_One_NN_DUDE_scale,3)), \n",
    "                 xytext=(minimum_idx_One_NN_DUDE_scale-4, round(min_One_NN_DUDE_scale,3)+0.7),\n",
    "                 arrowprops=dict(arrowstyle=\"->\",connectionstyle=\"angle,angleA=0,angleB=90,rad=10\",color='r',linewidth=1.5),color='r',weight='bold')\n",
    "    \n",
    "    plt.annotate('%0.3f$\\delta$, k=%d' %(round(min_One_NN_DUDE_PD,3),minimum_idx_One_NN_DUDE_PD), xy=(minimum_idx_One_NN_DUDE_PD, round(min_One_NN_DUDE_PD,3)), \n",
    "                 xytext=(minimum_idx_One_NN_DUDE_PD-4, round(min_One_NN_DUDE_PD,3)+0.6),\n",
    "                 arrowprops=dict(arrowstyle=\"->\",connectionstyle=\"angle,angleA=0,angleB=90,rad=10\",color='b',linewidth=1.5),color='b',weight='bold')\n",
    "    \n",
    "    plt.annotate('%0.3f$\\delta$, k=%d' %(round(min_One_NN_DUDE_PD_scale,3),minimum_idx_One_NN_DUDE_PD_scale), xy=(minimum_idx_One_NN_DUDE_PD_scale, round(min_One_NN_DUDE_PD_scale,3)), \n",
    "                 xytext=(minimum_idx_One_NN_DUDE_PD_scale-4, round(min_One_NN_DUDE_PD_scale,3)+0.4),\n",
    "                 arrowprops=dict(arrowstyle=\"->\",connectionstyle=\"angle,angleA=0,angleB=90,rad=10\",color='g',linewidth=1.5),color='g',weight='bold')\n",
    "    \n",
    "    plt.annotate('%0.3f$\\delta$, k=%d' %(round(min_One_NN_DUDE_Bind,3),minimum_idx_One_NN_DUDE_Bind), xy=(minimum_idx_One_NN_DUDE_Bind, round(min_One_NN_DUDE_Bind,3)), \n",
    "                 xytext=(minimum_idx_One_NN_DUDE_Bind-4, round(min_One_NN_DUDE_Bind,3)+0.45),\n",
    "                 arrowprops=dict(arrowstyle=\"->\",connectionstyle=\"angle,angleA=0,angleB=90,rad=10\",color='y',linewidth=1.5),color='y',weight='bold')\n",
    "    \n",
    "    plt.annotate('%0.3f$\\delta$, k=%d' %(round(min_One_NN_DUDE_Bind_scale,3),minimum_idx_One_NN_DUDE_Bind_scale), xy=(minimum_idx_One_NN_DUDE_Bind_scale, round(min_One_NN_DUDE_Bind_scale,3)), \n",
    "                 xytext=(minimum_idx_One_NN_DUDE_Bind_scale-4, round(min_One_NN_DUDE_Bind_scale,3)+0.6),\n",
    "                 arrowprops=dict(arrowstyle=\"->\",connectionstyle=\"angle,angleA=0,angleB=90,rad=10\",color='m',linewidth=1.5),color='m',weight='bold')\n",
    "    \n",
    "    plt.savefig('/HDD/user/yoon/Yoon_SV4/N-DUDE_SV4/NeuralDUDE_Delta_Variation/Results/Scaled_all_delta=%0.2f.pdf'%delta[i],bbox_inches='tight')"
   ]
  },
  {
   "cell_type": "code",
   "execution_count": null,
   "metadata": {
    "collapsed": true
   },
   "outputs": [],
   "source": [
    "result20=np.load('./Regression_One.npz')\n",
    "Error_One_NN_DUDE=result20['Error_One_NN_DUDE']\n",
    "Error_One_NN_DUDE_PD=result20['Error_One_NN_DUDE_PD']"
   ]
  },
  {
   "cell_type": "code",
   "execution_count": null,
   "metadata": {
    "collapsed": false
   },
   "outputs": [],
   "source": [
    "Error_One_NN_DUDE=vstack((Error_One_NN_DUDE[0],Error_One_NN_DUDE[9]))\n",
    "Error_One_NN_DUDE_PD=vstack((Error_One_NN_DUDE_PD[0],Error_One_NN_DUDE_PD[9]))\n",
    "print Error_One_NN_DUDE\n",
    "print Error_One_NN_DUDE_PD"
   ]
  },
  {
   "cell_type": "code",
   "execution_count": null,
   "metadata": {
    "collapsed": false
   },
   "outputs": [],
   "source": [
    "result21=np.load('./Regression_Two.npz')\n",
    "Error_Two_NN_DUDE=result21['Error_Two_NN_DUDE']\n",
    "Error_Two_NN_DUDE_PD=result21['Error_Two_NN_DUDE_PD']"
   ]
  },
  {
   "cell_type": "code",
   "execution_count": null,
   "metadata": {
    "collapsed": false
   },
   "outputs": [],
   "source": [
    "Error_Two_NN_DUDE=vstack((Error_Two_NN_DUDE[0],Error_Two_NN_DUDE[9]))\n",
    "Error_Two_NN_DUDE_PD=vstack((Error_Two_NN_DUDE_PD[0],Error_Two_NN_DUDE_PD[9]))\n",
    "print Error_Two_NN_DUDE\n",
    "print Error_Two_NN_DUDE_PD"
   ]
  },
  {
   "cell_type": "code",
   "execution_count": null,
   "metadata": {
    "collapsed": true
   },
   "outputs": [],
   "source": [
    "result22=np.load('./Regression_Combine&Norm.npz')\n",
    "Error_One_NN_DUDE_Bind1=result22['Error_One_NN_DUDE_Bind']\n",
    "Error_One_NN_DUDE_Bind_Norm1=result22['Error_One_NN_DUDE_Bind_Norm']"
   ]
  },
  {
   "cell_type": "code",
   "execution_count": null,
   "metadata": {
    "collapsed": false
   },
   "outputs": [],
   "source": [
    "result23=np.load('./Regression_Combine&Norm_0.1.npz')\n",
    "Error_One_NN_DUDE_Bind2=result23['Error_One_NN_DUDE_Bind']\n",
    "Error_One_NN_DUDE_Bind_Norm2=result23['Error_One_NN_DUDE_Bind_Norm']"
   ]
  },
  {
   "cell_type": "code",
   "execution_count": null,
   "metadata": {
    "collapsed": false
   },
   "outputs": [],
   "source": [
    "Error_One_NN_DUDE_Bind=vstack((Error_One_NN_DUDE_Bind1[0],Error_One_NN_DUDE_Bind2[9]))\n",
    "print Error_One_NN_DUDE_Bind"
   ]
  },
  {
   "cell_type": "code",
   "execution_count": null,
   "metadata": {
    "collapsed": false
   },
   "outputs": [],
   "source": [
    "Error_One_NN_DUDE_Bind_Norm=vstack((Error_One_NN_DUDE_Bind_Norm1[0],Error_One_NN_DUDE_Bind_Norm2[9]))\n",
    "print Error_One_NN_DUDE_Bind_Norm"
   ]
  },
  {
   "cell_type": "code",
   "execution_count": null,
   "metadata": {
    "collapsed": false
   },
   "outputs": [],
   "source": [
    "v=var(Error_One_NN_DUDE[0]/0.01)\n",
    "print v"
   ]
  },
  {
   "cell_type": "code",
   "execution_count": null,
   "metadata": {
    "collapsed": false
   },
   "outputs": [],
   "source": [
    "result30=np.load('./Randomization_Combine.npz')\n",
    "Error_One_NN_DUDE_Bind1=result30['Error_One_NN_DUDE_Bind_RD']\n",
    "Error_One_NN_DUDE_Bind_Norm1=result30['Error_One_NN_DUDE_Bind_Norm_RD']"
   ]
  },
  {
   "cell_type": "code",
   "execution_count": null,
   "metadata": {
    "collapsed": true
   },
   "outputs": [],
   "source": [
    "result31=np.load('./Randomization_Combine_0.1.npz')\n",
    "Error_One_NN_DUDE_Bind2=result31['Error_One_NN_DUDE_Bind_RD']\n",
    "Error_One_NN_DUDE_Bind_Norm2=result31['Error_One_NN_DUDE_Bind_Norm_RD']"
   ]
  },
  {
   "cell_type": "code",
   "execution_count": null,
   "metadata": {
    "collapsed": false
   },
   "outputs": [],
   "source": [
    "Error_One_NN_DUDE_Bind=vstack((Error_One_NN_DUDE_Bind1[0,:39],Error_One_NN_DUDE_Bind2[9,:39]))\n",
    "Error_One_NN_DUDE_Bind_Norm=vstack((Error_One_NN_DUDE_Bind_Norm1[0,:39],Error_One_NN_DUDE_Bind_Norm2[9,:39]))\n",
    "print Error_One_NN_DUDE_Bind"
   ]
  },
  {
   "cell_type": "code",
   "execution_count": null,
   "metadata": {
    "collapsed": false
   },
   "outputs": [],
   "source": [
    "result32=np.load('./Randomization_NN_DUDE.npz')\n",
    "Error_One_NN_DUDE=result32['Error_One_NN_DUDE_RD']"
   ]
  },
  {
   "cell_type": "code",
   "execution_count": null,
   "metadata": {
    "collapsed": false
   },
   "outputs": [],
   "source": [
    "Error_One_NN_DUDE=vstack((Error_One_NN_DUDE[0,:39],Error_One_NN_DUDE_Bind2[9,:39]))\n",
    "print Error_One_NN_DUDE"
   ]
  },
  {
   "cell_type": "code",
   "execution_count": null,
   "metadata": {
    "collapsed": false
   },
   "outputs": [],
   "source": [
    "Error_One_NN_DUDE_Bind=vstack((Error_One_NN_DUDE_Bind1[0,:39],Error_One_NN_DUDE_Bind2[9,:39]))\n",
    "print Error_One_NN_DUDE_Bind"
   ]
  },
  {
   "cell_type": "code",
   "execution_count": null,
   "metadata": {
    "collapsed": false,
    "scrolled": false
   },
   "outputs": [],
   "source": [
    "k=range(k_max)\n",
    "\n",
    "for i in range(len(delta)):\n",
    "    fig=plt.figure(i)\n",
    "    results=plt.subplot(111)\n",
    "    \n",
    "    #results.plot(k,Error_One_NN_DUDE[i]/delta[i],'k-',marker='.',linewidth=1.0)\n",
    "    #results.plot(k,Error_One_NN_DUDE_PD[i]/delta[i],'r-',marker='.',linewidth=1.0)\n",
    "    #results.plot(k,Error_One_NN_DUDE_Bind[i]/delta[i],'b-',marker='.',linewidth=1.0)\n",
    "    #results.plot(k,Error_One_NN_DUDE_Bind_Norm[i]/delta[i],'g-',marker='.',linewidth=1.0)\n",
    "    results.plot(k,Error_Two_NN_DUDE[i]/delta[i],'y-',marker='.',linewidth=1.0)\n",
    "    results.plot(k,Error_Two_NN_DUDE_PD[i]/delta[i],'m-',marker='.',linewidth=1.0)\n",
    "    \n",
    "    plt.legend(['1-D N-DUDE','1-D N-DUDE padding','1-D Combine','1-D Combine Norm','2-D N-DUDE','2-D N-DUDE Padding'],fontsize=10,bbox_to_anchor=(1.6, 1.0))\n",
    "    plt.ylim((0.4,1.6))\n",
    "    plt.title('Regression, $\\delta$=%0.2f, epoch=10'% delta[i], fontweight='bold', fontstyle='italic', fontsize=16, horizontalalignment='center')\n",
    "\n",
    "    plt.xlabel('Window size k',fontsize=12)\n",
    "    plt.ylabel('(Bit Error Rate) / $\\delta$',fontsize=12)\n",
    "    \n",
    "    minimum_idx_One_NN_DUDE=fd.find_min_idx(Error_One_NN_DUDE[i])\n",
    "    minimum_idx_One_NN_DUDE_PD=fd.find_min_idx(Error_One_NN_DUDE_PD[i])\n",
    "    minimum_idx_Two_NN_DUDE=fd.find_min_idx(Error_Two_NN_DUDE[i])\n",
    "    minimum_idx_Two_NN_DUDE_PD=fd.find_min_idx(Error_Two_NN_DUDE_PD[i])\n",
    "    minimum_idx_One_NN_DUDE_Bind=fd.find_min_idx(Error_One_NN_DUDE_Bind[i])\n",
    "    minimum_idx_One_NN_DUDE_Bind_Norm=fd.find_min_idx(Error_One_NN_DUDE_Bind_Norm[i])\n",
    "    \n",
    "    min_One_NN_DUDE=(min(Error_One_NN_DUDE[i]))/delta[i]\n",
    "    min_One_NN_DUDE_PD=(min(Error_One_NN_DUDE_PD[i]))/delta[i]\n",
    "    min_Two_NN_DUDE=(min(Error_Two_NN_DUDE_PD[i]))/delta[i]\n",
    "    min_Two_NN_DUDE_PD=(min(Error_Two_NN_DUDE_PD[i]))/delta[i]\n",
    "    min_One_NN_DUDE_Bind=(min(Error_One_NN_DUDE_Bind[i]))/delta[i]\n",
    "    min_One_NN_DUDE_Bind_Norm=(min(Error_One_NN_DUDE_Bind_Norm[i]))/delta[i]\n",
    "    \n",
    "    #plt.annotate('%0.3f$\\delta$, k=%d' %(round(min_One_NN_DUDE,3),minimum_idx_One_NN_DUDE), xy=(minimum_idx_One_NN_DUDE, round(min_One_NN_DUDE,3)), \n",
    "    #             xytext=(minimum_idx_One_NN_DUDE-4, round(min_One_NN_DUDE,3)+0.5),\n",
    "    #             arrowprops=dict(arrowstyle=\"->\",connectionstyle=\"angle,angleA=0,angleB=90,rad=10\",color='k',linewidth=1.5),color='k',weight='bold')\n",
    "    \n",
    "    #plt.annotate('%0.3f$\\delta$, k=%d' %(round(min_One_NN_DUDE_PD,3),minimum_idx_One_NN_DUDE_PD), xy=(minimum_idx_One_NN_DUDE_PD, round(min_One_NN_DUDE_PD,3)), \n",
    "    #             xytext=(minimum_idx_One_NN_DUDE_PD-4, round(min_One_NN_DUDE_PD,3)+0.4),\n",
    "    #             arrowprops=dict(arrowstyle=\"->\",connectionstyle=\"angle,angleA=0,angleB=90,rad=10\",color='r',linewidth=1.5),color='r',weight='bold')\n",
    "    \n",
    "    #plt.annotate('%0.3f$\\delta$, k=%d' %(round(min_One_NN_DUDE_Bind,3),minimum_idx_One_NN_DUDE_Bind), xy=(minimum_idx_One_NN_DUDE_Bind, round(min_One_NN_DUDE_Bind,3)), \n",
    "    #             xytext=(minimum_idx_One_NN_DUDE_Bind-4, round(min_One_NN_DUDE_Bind,3)+0.2),\n",
    "    #             arrowprops=dict(arrowstyle=\"->\",connectionstyle=\"angle,angleA=0,angleB=90,rad=10\",color='b',linewidth=1.5),color='b',weight='bold')\n",
    "    \n",
    "    #plt.annotate('%0.3f$\\delta$, k=%d' %(round(min_One_NN_DUDE_Bind_Norm,3),minimum_idx_One_NN_DUDE_Bind_Norm), xy=(minimum_idx_One_NN_DUDE_Bind_Norm, round(min_One_NN_DUDE_Bind_Norm,3)), \n",
    "    #             xytext=(minimum_idx_One_NN_DUDE_Bind_Norm-4, round(min_One_NN_DUDE_Bind_Norm,3)+0.3),\n",
    "    #             arrowprops=dict(arrowstyle=\"->\",connectionstyle=\"angle,angleA=0,angleB=90,rad=10\",color='g',linewidth=1.5),color='g',weight='bold')\n",
    "    \n",
    "    plt.annotate('%0.3f$\\delta$, k=%d' %(round(min_Two_NN_DUDE,3),minimum_idx_Two_NN_DUDE), xy=(minimum_idx_Two_NN_DUDE, round(min_Two_NN_DUDE,3)), \n",
    "                 xytext=(minimum_idx_Two_NN_DUDE-4, round(min_Two_NN_DUDE,3)+0.6),\n",
    "                 arrowprops=dict(arrowstyle=\"->\",connectionstyle=\"angle,angleA=0,angleB=90,rad=10\",color='y',linewidth=1.5),color='y',weight='bold')\n",
    "    \n",
    "    plt.annotate('%0.3f$\\delta$, k=%d' %(round(min_Two_NN_DUDE_PD,3),minimum_idx_Two_NN_DUDE_PD), xy=(minimum_idx_Two_NN_DUDE_PD, round(min_Two_NN_DUDE_PD,3)), \n",
    "                 xytext=(minimum_idx_Two_NN_DUDE_PD-4, round(min_Two_NN_DUDE_PD,3)+0.4),\n",
    "                 arrowprops=dict(arrowstyle=\"->\",connectionstyle=\"angle,angleA=0,angleB=90,rad=10\",color='m',linewidth=1.5),color='m',weight='bold')\n",
    "    \n",
    "    \n",
    "    plt.savefig('/HDD/user/yoon/Yoon_SV4/N-DUDE_SV4/NeuralDUDE_Delta_Variation/Results/Regression_two_delta=%0.2f.pdf'%delta[i],bbox_inches='tight')"
   ]
  },
  {
   "cell_type": "code",
   "execution_count": null,
   "metadata": {
    "collapsed": false,
    "scrolled": false
   },
   "outputs": [],
   "source": [
    "k=range(k_max-1)\n",
    "\n",
    "for i in range(len(delta)):\n",
    "    fig=plt.figure(i)\n",
    "    results=plt.subplot(111)\n",
    "    \n",
    "    results.plot(k,Error_One_NN_DUDE[i]/delta[i],'k-',marker='.',linewidth=1.0)\n",
    "    results.plot(k,Error_One_NN_DUDE_Bind[i]/delta[i],'r-',marker='.',linewidth=1.0)\n",
    "    results.plot(k,Error_One_NN_DUDE_Bind_Norm[i]/delta[i],'b-',marker='.',linewidth=1.0)\n",
    "    \n",
    "    plt.legend(['N-DUDE','Combine','Combine Norm'],fontsize=10,bbox_to_anchor=(1.6, 1.0))\n",
    "    plt.ylim((0.4,1.6))\n",
    "    plt.title('Randomization, $\\delta$=%0.2f, epoch=10'% delta[i], fontweight='bold', fontstyle='italic', fontsize=16, horizontalalignment='center')\n",
    "\n",
    "    plt.xlabel('Window size k',fontsize=12)\n",
    "    plt.ylabel('(Bit Error Rate) / $\\delta$',fontsize=12)\n",
    "    \n",
    "    minimum_idx_One_NN_DUDE=fd.find_min_idx(Error_One_NN_DUDE[i])\n",
    "    minimum_idx_One_NN_DUDE_scale=fd.find_min_idx(Error_One_NN_DUDE_scale[i])\n",
    "    minimum_idx_One_NN_DUDE_PD=fd.find_min_idx(Error_One_NN_DUDE_PD[i])\n",
    "    minimum_idx_One_NN_DUDE_PD_scale=fd.find_min_idx(Error_One_NN_DUDE_PD_scale[i])\n",
    "    minimum_idx_One_NN_DUDE_Bind=fd.find_min_idx(Error_One_NN_DUDE_Bind[i])\n",
    "    minimum_idx_One_NN_DUDE_Bind_Norm=fd.find_min_idx(Error_One_NN_DUDE_Bind_Norm[i])\n",
    "    \n",
    "    min_One_NN_DUDE=(min(Error_One_NN_DUDE[i]))/delta[i]\n",
    "    min_One_NN_DUDE_scale=(min(Error_One_NN_DUDE_scale[i]))/delta[i]\n",
    "    min_One_NN_DUDE_PD=(min(Error_One_NN_DUDE_PD[i]))/delta[i]\n",
    "    min_One_NN_DUDE_PD_scale=(min(Error_One_NN_DUDE_PD_scale[i]))/delta[i]\n",
    "    min_One_NN_DUDE_Bind=(min(Error_One_NN_DUDE_Bind[i]))/delta[i]\n",
    "    min_One_NN_DUDE_Bind_Norm=(min(Error_One_NN_DUDE_Bind_Norm[i]))/delta[i]\n",
    "    \n",
    "    plt.annotate('%0.3f$\\delta$, k=%d' %(round(min_One_NN_DUDE,3),minimum_idx_One_NN_DUDE), xy=(minimum_idx_One_NN_DUDE, round(min_One_NN_DUDE,3)), \n",
    "                 xytext=(minimum_idx_One_NN_DUDE-4, round(min_One_NN_DUDE,3)+0.6),\n",
    "                 arrowprops=dict(arrowstyle=\"->\",connectionstyle=\"angle,angleA=0,angleB=90,rad=10\",color='k',linewidth=1.5),color='k',weight='bold')\n",
    "    \n",
    "    plt.annotate('%0.3f$\\delta$, k=%d' %(round(min_One_NN_DUDE_Bind,3),minimum_idx_One_NN_DUDE_Bind), xy=(minimum_idx_One_NN_DUDE_Bind, round(min_One_NN_DUDE_Bind,3)), \n",
    "                 xytext=(minimum_idx_One_NN_DUDE_Bind-4, round(min_One_NN_DUDE_Bind,3)+0.7),\n",
    "                 arrowprops=dict(arrowstyle=\"->\",connectionstyle=\"angle,angleA=0,angleB=90,rad=10\",color='r',linewidth=1.5),color='r',weight='bold')\n",
    "    \n",
    "    plt.annotate('%0.3f$\\delta$, k=%d' %(round(min_One_NN_DUDE_Bind_Norm,3),minimum_idx_One_NN_DUDE_Bind_Norm), xy=(minimum_idx_One_NN_DUDE_Bind_Norm, round(min_One_NN_DUDE_Bind_Norm,3)), \n",
    "                 xytext=(minimum_idx_One_NN_DUDE_Bind_Norm-4, round(min_One_NN_DUDE_Bind_Norm,3)+0.5),\n",
    "                 arrowprops=dict(arrowstyle=\"->\",connectionstyle=\"angle,angleA=0,angleB=90,rad=10\",color='b',linewidth=1.5),color='b',weight='bold')\n",
    "    \n",
    "    #plt.annotate('%0.3f$\\delta$, k=%d' %(round(min_One_NN_DUDE_PD_scale,3),minimum_idx_One_NN_DUDE_PD_scale), xy=(minimum_idx_One_NN_DUDE_PD_scale, round(min_One_NN_DUDE_PD_scale,3)), \n",
    "    #             xytext=(minimum_idx_One_NN_DUDE_PD_scale-4, round(min_One_NN_DUDE_PD_scale,3)+0.4),\n",
    "    #             arrowprops=dict(arrowstyle=\"->\",connectionstyle=\"angle,angleA=0,angleB=90,rad=10\",color='g',linewidth=1.5),color='g',weight='bold')\n",
    "    \n",
    "    #plt.annotate('%0.3f$\\delta$, k=%d' %(round(min_One_NN_DUDE_Bind,3),minimum_idx_One_NN_DUDE_Bind), xy=(minimum_idx_One_NN_DUDE_Bind, round(min_One_NN_DUDE_Bind,3)), \n",
    "    #             xytext=(minimum_idx_One_NN_DUDE_Bind-4, round(min_One_NN_DUDE_Bind,3)+0.45),\n",
    "    #             arrowprops=dict(arrowstyle=\"->\",connectionstyle=\"angle,angleA=0,angleB=90,rad=10\",color='y',linewidth=1.5),color='y',weight='bold')\n",
    "    \n",
    "    #plt.annotate('%0.3f$\\delta$, k=%d' %(round(min_One_NN_DUDE_Bind_scale,3),minimum_idx_One_NN_DUDE_Bind_scale), xy=(minimum_idx_One_NN_DUDE_Bind_scale, round(min_One_NN_DUDE_Bind_scale,3)), \n",
    "    #             xytext=(minimum_idx_One_NN_DUDE_Bind_scale-4, round(min_One_NN_DUDE_Bind_scale,3)+0.6),\n",
    "    #             arrowprops=dict(arrowstyle=\"->\",connectionstyle=\"angle,angleA=0,angleB=90,rad=10\",color='m',linewidth=1.5),color='m',weight='bold')\n",
    "    \n",
    "    plt.savefig('/HDD/user/yoon/Yoon_SV4/N-DUDE_SV4/NeuralDUDE_Delta_Variation/Results/Randomization_delta=%0.2f.pdf'%delta[i],bbox_inches='tight')"
   ]
  },
  {
   "cell_type": "code",
   "execution_count": null,
   "metadata": {
    "collapsed": true
   },
   "outputs": [],
   "source": []
  }
 ],
 "metadata": {
  "kernelspec": {
   "display_name": "Python 2",
   "language": "python",
   "name": "python2"
  },
  "language_info": {
   "codemirror_mode": {
    "name": "ipython",
    "version": 2
   },
   "file_extension": ".py",
   "mimetype": "text/x-python",
   "name": "python",
   "nbconvert_exporter": "python",
   "pygments_lexer": "ipython2",
   "version": "2.7.6"
  }
 },
 "nbformat": 4,
 "nbformat_minor": 0
}
